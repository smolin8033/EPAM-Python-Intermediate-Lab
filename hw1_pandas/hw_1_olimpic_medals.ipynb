{
 "cells": [
  {
   "cell_type": "code",
   "execution_count": 3,
   "id": "5bba8f85",
   "metadata": {},
   "outputs": [],
   "source": [
    "import matplotlib.pyplot as plt\n",
    "import pandas as pd\n",
    "\n",
    "df = pd.read_csv('olimpic_medals.csv')"
   ]
  },
  {
   "cell_type": "code",
   "execution_count": 62,
   "id": "4538df67",
   "metadata": {},
   "outputs": [
    {
     "name": "stdout",
     "output_type": "stream",
     "text": [
      "В 1936 Jesse Owens выиграл 4 медали\n"
     ]
    }
   ],
   "source": [
    "# 1) Сколько медалей выиграл Jesse Owens в 1936?\n",
    "\n",
    "dataframe = df[(df.Athlete == 'OWENS, Jesse') & (df.Edition == 1936)].shape[0]\n",
    "print(f'В 1936 Jesse Owens выиграл {dataframe} медали')"
   ]
  },
  {
   "cell_type": "code",
   "execution_count": 63,
   "id": "a19741dd",
   "metadata": {},
   "outputs": [
    {
     "name": "stdout",
     "output_type": "stream",
     "text": [
      "INA выиграла большинство золотых медалей среди мужчин в бадминтоне\n"
     ]
    }
   ],
   "source": [
    "# 2) Какая страна выиграла большинство золотых медалей мужчинами в бадминтоне?\n",
    "\n",
    "dataframe = df[(df.Event_gender == 'M') & (df.Sport == 'Badminton') & (df.Medal == 'Gold')].value_counts('NOC')\n",
    "print(f'{dataframe.index[0]} выиграла большинство золотых медалей среди мужчин в бадминтоне')"
   ]
  },
  {
   "cell_type": "code",
   "execution_count": 73,
   "id": "ec4af42a",
   "metadata": {},
   "outputs": [
    {
     "name": "stdout",
     "output_type": "stream",
     "text": [
      "USA, AUS и GER выиграли большинство медалей в последние годы (с 1984 по 2008)\n"
     ]
    }
   ],
   "source": [
    "# 3) Какие три страны выиграли большинство медалей в последние годы (с 1984 по 2008)?\n",
    "\n",
    "dataframe = df[(df.Edition >= 1984)].value_counts('NOC')\n",
    "print(f'{dataframe.index[0]}, {dataframe.index[1]} и {dataframe.index[2]} выиграли \\\n",
    "большинство медалей в последние годы (с 1984 по 2008)')"
   ]
  },
  {
   "cell_type": "code",
   "execution_count": 109,
   "id": "7f8251a9",
   "metadata": {},
   "outputs": [
    {
     "data": {
      "text/html": [
       "<style type=\"text/css\">\n",
       "</style>\n",
       "<table id=\"T_4cfad\">\n",
       "  <thead>\n",
       "    <tr>\n",
       "      <th id=\"T_4cfad_level0_col0\" class=\"col_heading level0 col0\" >City</th>\n",
       "      <th id=\"T_4cfad_level0_col1\" class=\"col_heading level0 col1\" >Edition</th>\n",
       "      <th id=\"T_4cfad_level0_col2\" class=\"col_heading level0 col2\" >Athlete</th>\n",
       "      <th id=\"T_4cfad_level0_col3\" class=\"col_heading level0 col3\" >NOC</th>\n",
       "    </tr>\n",
       "  </thead>\n",
       "  <tbody>\n",
       "    <tr>\n",
       "      <td id=\"T_4cfad_row0_col0\" class=\"data row0 col0\" >Beijing</td>\n",
       "      <td id=\"T_4cfad_row0_col1\" class=\"data row0 col1\" >2008</td>\n",
       "      <td id=\"T_4cfad_row0_col2\" class=\"data row0 col2\" >BOLT, Usain</td>\n",
       "      <td id=\"T_4cfad_row0_col3\" class=\"data row0 col3\" >JAM</td>\n",
       "    </tr>\n",
       "    <tr>\n",
       "      <td id=\"T_4cfad_row1_col0\" class=\"data row1 col0\" >Athens</td>\n",
       "      <td id=\"T_4cfad_row1_col1\" class=\"data row1 col1\" >2004</td>\n",
       "      <td id=\"T_4cfad_row1_col2\" class=\"data row1 col2\" >GATLIN, Justin</td>\n",
       "      <td id=\"T_4cfad_row1_col3\" class=\"data row1 col3\" >USA</td>\n",
       "    </tr>\n",
       "    <tr>\n",
       "      <td id=\"T_4cfad_row2_col0\" class=\"data row2 col0\" >Sydney</td>\n",
       "      <td id=\"T_4cfad_row2_col1\" class=\"data row2 col1\" >2000</td>\n",
       "      <td id=\"T_4cfad_row2_col2\" class=\"data row2 col2\" >GREENE, Maurice</td>\n",
       "      <td id=\"T_4cfad_row2_col3\" class=\"data row2 col3\" >USA</td>\n",
       "    </tr>\n",
       "    <tr>\n",
       "      <td id=\"T_4cfad_row3_col0\" class=\"data row3 col0\" >Atlanta</td>\n",
       "      <td id=\"T_4cfad_row3_col1\" class=\"data row3 col1\" >1996</td>\n",
       "      <td id=\"T_4cfad_row3_col2\" class=\"data row3 col2\" >BAILEY, Donovan</td>\n",
       "      <td id=\"T_4cfad_row3_col3\" class=\"data row3 col3\" >CAN</td>\n",
       "    </tr>\n",
       "    <tr>\n",
       "      <td id=\"T_4cfad_row4_col0\" class=\"data row4 col0\" >Barcelona</td>\n",
       "      <td id=\"T_4cfad_row4_col1\" class=\"data row4 col1\" >1992</td>\n",
       "      <td id=\"T_4cfad_row4_col2\" class=\"data row4 col2\" >CHRISTIE, Linford</td>\n",
       "      <td id=\"T_4cfad_row4_col3\" class=\"data row4 col3\" >GBR</td>\n",
       "    </tr>\n",
       "    <tr>\n",
       "      <td id=\"T_4cfad_row5_col0\" class=\"data row5 col0\" >Seoul</td>\n",
       "      <td id=\"T_4cfad_row5_col1\" class=\"data row5 col1\" >1988</td>\n",
       "      <td id=\"T_4cfad_row5_col2\" class=\"data row5 col2\" >LEWIS, Carl</td>\n",
       "      <td id=\"T_4cfad_row5_col3\" class=\"data row5 col3\" >USA</td>\n",
       "    </tr>\n",
       "    <tr>\n",
       "      <td id=\"T_4cfad_row6_col0\" class=\"data row6 col0\" >Los Angeles</td>\n",
       "      <td id=\"T_4cfad_row6_col1\" class=\"data row6 col1\" >1984</td>\n",
       "      <td id=\"T_4cfad_row6_col2\" class=\"data row6 col2\" >LEWIS, Carl</td>\n",
       "      <td id=\"T_4cfad_row6_col3\" class=\"data row6 col3\" >USA</td>\n",
       "    </tr>\n",
       "    <tr>\n",
       "      <td id=\"T_4cfad_row7_col0\" class=\"data row7 col0\" >Moscow</td>\n",
       "      <td id=\"T_4cfad_row7_col1\" class=\"data row7 col1\" >1980</td>\n",
       "      <td id=\"T_4cfad_row7_col2\" class=\"data row7 col2\" >WELLS, Allan</td>\n",
       "      <td id=\"T_4cfad_row7_col3\" class=\"data row7 col3\" >GBR</td>\n",
       "    </tr>\n",
       "    <tr>\n",
       "      <td id=\"T_4cfad_row8_col0\" class=\"data row8 col0\" >Montreal</td>\n",
       "      <td id=\"T_4cfad_row8_col1\" class=\"data row8 col1\" >1976</td>\n",
       "      <td id=\"T_4cfad_row8_col2\" class=\"data row8 col2\" >CRAWFORD, Hasely</td>\n",
       "      <td id=\"T_4cfad_row8_col3\" class=\"data row8 col3\" >TRI</td>\n",
       "    </tr>\n",
       "    <tr>\n",
       "      <td id=\"T_4cfad_row9_col0\" class=\"data row9 col0\" >Munich</td>\n",
       "      <td id=\"T_4cfad_row9_col1\" class=\"data row9 col1\" >1972</td>\n",
       "      <td id=\"T_4cfad_row9_col2\" class=\"data row9 col2\" >BORZOV, Valery</td>\n",
       "      <td id=\"T_4cfad_row9_col3\" class=\"data row9 col3\" >URS</td>\n",
       "    </tr>\n",
       "    <tr>\n",
       "      <td id=\"T_4cfad_row10_col0\" class=\"data row10 col0\" >Mexico</td>\n",
       "      <td id=\"T_4cfad_row10_col1\" class=\"data row10 col1\" >1968</td>\n",
       "      <td id=\"T_4cfad_row10_col2\" class=\"data row10 col2\" >HINES, James Ray</td>\n",
       "      <td id=\"T_4cfad_row10_col3\" class=\"data row10 col3\" >USA</td>\n",
       "    </tr>\n",
       "    <tr>\n",
       "      <td id=\"T_4cfad_row11_col0\" class=\"data row11 col0\" >Tokyo</td>\n",
       "      <td id=\"T_4cfad_row11_col1\" class=\"data row11 col1\" >1964</td>\n",
       "      <td id=\"T_4cfad_row11_col2\" class=\"data row11 col2\" >HAYES, Robert</td>\n",
       "      <td id=\"T_4cfad_row11_col3\" class=\"data row11 col3\" >USA</td>\n",
       "    </tr>\n",
       "    <tr>\n",
       "      <td id=\"T_4cfad_row12_col0\" class=\"data row12 col0\" >Rome</td>\n",
       "      <td id=\"T_4cfad_row12_col1\" class=\"data row12 col1\" >1960</td>\n",
       "      <td id=\"T_4cfad_row12_col2\" class=\"data row12 col2\" >HARY, Armin</td>\n",
       "      <td id=\"T_4cfad_row12_col3\" class=\"data row12 col3\" >EUA</td>\n",
       "    </tr>\n",
       "    <tr>\n",
       "      <td id=\"T_4cfad_row13_col0\" class=\"data row13 col0\" >Melbourne / Stockholm</td>\n",
       "      <td id=\"T_4cfad_row13_col1\" class=\"data row13 col1\" >1956</td>\n",
       "      <td id=\"T_4cfad_row13_col2\" class=\"data row13 col2\" >MORROW, Robert Joseph</td>\n",
       "      <td id=\"T_4cfad_row13_col3\" class=\"data row13 col3\" >USA</td>\n",
       "    </tr>\n",
       "    <tr>\n",
       "      <td id=\"T_4cfad_row14_col0\" class=\"data row14 col0\" >Helsinki</td>\n",
       "      <td id=\"T_4cfad_row14_col1\" class=\"data row14 col1\" >1952</td>\n",
       "      <td id=\"T_4cfad_row14_col2\" class=\"data row14 col2\" >REMIGINO, Lindy</td>\n",
       "      <td id=\"T_4cfad_row14_col3\" class=\"data row14 col3\" >USA</td>\n",
       "    </tr>\n",
       "    <tr>\n",
       "      <td id=\"T_4cfad_row15_col0\" class=\"data row15 col0\" >London</td>\n",
       "      <td id=\"T_4cfad_row15_col1\" class=\"data row15 col1\" >1948</td>\n",
       "      <td id=\"T_4cfad_row15_col2\" class=\"data row15 col2\" >DILLARD, Harrison</td>\n",
       "      <td id=\"T_4cfad_row15_col3\" class=\"data row15 col3\" >USA</td>\n",
       "    </tr>\n",
       "    <tr>\n",
       "      <td id=\"T_4cfad_row16_col0\" class=\"data row16 col0\" >Berlin</td>\n",
       "      <td id=\"T_4cfad_row16_col1\" class=\"data row16 col1\" >1936</td>\n",
       "      <td id=\"T_4cfad_row16_col2\" class=\"data row16 col2\" >OWENS, Jesse</td>\n",
       "      <td id=\"T_4cfad_row16_col3\" class=\"data row16 col3\" >USA</td>\n",
       "    </tr>\n",
       "    <tr>\n",
       "      <td id=\"T_4cfad_row17_col0\" class=\"data row17 col0\" >Los Angeles</td>\n",
       "      <td id=\"T_4cfad_row17_col1\" class=\"data row17 col1\" >1932</td>\n",
       "      <td id=\"T_4cfad_row17_col2\" class=\"data row17 col2\" >TOLAN, Eddie</td>\n",
       "      <td id=\"T_4cfad_row17_col3\" class=\"data row17 col3\" >USA</td>\n",
       "    </tr>\n",
       "    <tr>\n",
       "      <td id=\"T_4cfad_row18_col0\" class=\"data row18 col0\" >Amsterdam</td>\n",
       "      <td id=\"T_4cfad_row18_col1\" class=\"data row18 col1\" >1928</td>\n",
       "      <td id=\"T_4cfad_row18_col2\" class=\"data row18 col2\" >WILLIAMS, Percy</td>\n",
       "      <td id=\"T_4cfad_row18_col3\" class=\"data row18 col3\" >CAN</td>\n",
       "    </tr>\n",
       "    <tr>\n",
       "      <td id=\"T_4cfad_row19_col0\" class=\"data row19 col0\" >Paris</td>\n",
       "      <td id=\"T_4cfad_row19_col1\" class=\"data row19 col1\" >1924</td>\n",
       "      <td id=\"T_4cfad_row19_col2\" class=\"data row19 col2\" >ABRAHAMS, Harold</td>\n",
       "      <td id=\"T_4cfad_row19_col3\" class=\"data row19 col3\" >GBR</td>\n",
       "    </tr>\n",
       "    <tr>\n",
       "      <td id=\"T_4cfad_row20_col0\" class=\"data row20 col0\" >Antwerp</td>\n",
       "      <td id=\"T_4cfad_row20_col1\" class=\"data row20 col1\" >1920</td>\n",
       "      <td id=\"T_4cfad_row20_col2\" class=\"data row20 col2\" >PADDOCK, Charles</td>\n",
       "      <td id=\"T_4cfad_row20_col3\" class=\"data row20 col3\" >USA</td>\n",
       "    </tr>\n",
       "    <tr>\n",
       "      <td id=\"T_4cfad_row21_col0\" class=\"data row21 col0\" >Stockholm</td>\n",
       "      <td id=\"T_4cfad_row21_col1\" class=\"data row21 col1\" >1912</td>\n",
       "      <td id=\"T_4cfad_row21_col2\" class=\"data row21 col2\" >CRAIG, Ralph</td>\n",
       "      <td id=\"T_4cfad_row21_col3\" class=\"data row21 col3\" >USA</td>\n",
       "    </tr>\n",
       "    <tr>\n",
       "      <td id=\"T_4cfad_row22_col0\" class=\"data row22 col0\" >London</td>\n",
       "      <td id=\"T_4cfad_row22_col1\" class=\"data row22 col1\" >1908</td>\n",
       "      <td id=\"T_4cfad_row22_col2\" class=\"data row22 col2\" >WALKER, Reginald</td>\n",
       "      <td id=\"T_4cfad_row22_col3\" class=\"data row22 col3\" >RSA</td>\n",
       "    </tr>\n",
       "    <tr>\n",
       "      <td id=\"T_4cfad_row23_col0\" class=\"data row23 col0\" >St Louis</td>\n",
       "      <td id=\"T_4cfad_row23_col1\" class=\"data row23 col1\" >1904</td>\n",
       "      <td id=\"T_4cfad_row23_col2\" class=\"data row23 col2\" >HAHN, Archie</td>\n",
       "      <td id=\"T_4cfad_row23_col3\" class=\"data row23 col3\" >USA</td>\n",
       "    </tr>\n",
       "    <tr>\n",
       "      <td id=\"T_4cfad_row24_col0\" class=\"data row24 col0\" >Paris</td>\n",
       "      <td id=\"T_4cfad_row24_col1\" class=\"data row24 col1\" >1900</td>\n",
       "      <td id=\"T_4cfad_row24_col2\" class=\"data row24 col2\" >JARVIS, Francis</td>\n",
       "      <td id=\"T_4cfad_row24_col3\" class=\"data row24 col3\" >USA</td>\n",
       "    </tr>\n",
       "    <tr>\n",
       "      <td id=\"T_4cfad_row25_col0\" class=\"data row25 col0\" >Athens</td>\n",
       "      <td id=\"T_4cfad_row25_col1\" class=\"data row25 col1\" >1896</td>\n",
       "      <td id=\"T_4cfad_row25_col2\" class=\"data row25 col2\" >BURKE, Thomas</td>\n",
       "      <td id=\"T_4cfad_row25_col3\" class=\"data row25 col3\" >USA</td>\n",
       "    </tr>\n",
       "  </tbody>\n",
       "</table>\n"
      ],
      "text/plain": [
       "<pandas.io.formats.style.Styler at 0x1068d98e1f0>"
      ]
     },
     "execution_count": 109,
     "metadata": {},
     "output_type": "execute_result"
    }
   ],
   "source": [
    "# 4) Покажите мужчин золотых медалистов по 100m. Выведите результаты по убыванию года выигрыша. \n",
    "# Покажите город в котором проходила олимпиала, год, имя атлета и страну за которую он выступал.\n",
    "\n",
    "dataframe = df[\n",
    "    (df.Event == '100m') & (df.Medal == 'Gold') & (df.Event_gender == 'M')\n",
    "].sort_values(by='Edition', ascending=False)\n",
    "dataframe[['City', 'Edition', 'Athlete', 'NOC']].style.hide(axis='index')"
   ]
  },
  {
   "cell_type": "code",
   "execution_count": 5,
   "id": "ab446dd2",
   "metadata": {},
   "outputs": [
    {
     "name": "stdout",
     "output_type": "stream",
     "text": [
      "Пол: Men\n",
      "Количество выигранных медалей:    Всего: 21721,    Золотых: 7365,    Серебряных: 7181,    Бронзовых: 7175\n",
      "\n",
      "Пол: Women\n",
      "Количество выигранных медалей:    Всего: 7495,    Золотых: 2485,    Серебряных: 2496,    Бронзовых: 2514\n",
      "\n"
     ]
    }
   ],
   "source": [
    "# 5) Как много медалей было выиграно мужчинами и женщинами в истории олимпиады.\n",
    "#Как много золотых, серебрянных и бронзовых медалей было выиграно каждым полом?\n",
    "\n",
    "for value, group in df.groupby('Gender'):\n",
    "    print(f'Пол: {value}')\n",
    "    print(f\"Количество выигранных медалей:\\\n",
    "    Всего: {group.shape[0]},\\\n",
    "    Золотых: {group[group.Medal == 'Gold'].shape[0]},\\\n",
    "    Серебряных: {group[group.Medal == 'Silver'].shape[0]},\\\n",
    "    Бронзовых: {group[group.Medal == 'Bronze'].shape[0]}\\n\")"
   ]
  },
  {
   "cell_type": "code",
   "execution_count": 53,
   "id": "43611fdc",
   "metadata": {},
   "outputs": [
    {
     "data": {
      "text/plain": [
       "<AxesSubplot:xlabel='City'>"
      ]
     },
     "execution_count": 53,
     "metadata": {},
     "output_type": "execute_result"
    },
    {
     "data": {
      "image/png": "[encoded data removed]",
      "text/plain": [
       "<Figure size 1440x720 with 1 Axes>"
      ]
     },
     "metadata": {
      "needs_background": "light"
     },
     "output_type": "display_data"
    }
   ],
   "source": [
    "# 6) Используя groupby(), постройте график числа всех медалей выигранных на каждой олимпиаде.\n",
    "\n",
    "dataframe = df.groupby('City').size()\n",
    "dataframe.plot(figsize=(20, 10)) #не могу сообразить, как показать все города на оси\n",
    "dataframe.plot(kind='bar') #если делаю как диаграмму, показывает"
   ]
  },
  {
   "cell_type": "code",
   "execution_count": 7,
   "id": "d098d381",
   "metadata": {},
   "outputs": [
    {
     "name": "stdout",
     "output_type": "stream",
     "text": [
      "['Страна AFG', '1 медаль(-и-ей)', 'первая в 2008', 'последняя в 2008', 'Страна AHO', '1 медаль(-и-ей)', 'первая в 1988', 'последняя в 1988', 'Страна ALG', '14 медаль(-и-ей)', 'первая в 1984', 'последняя в 2008', 'Страна ANZ', '29 медаль(-и-ей)', 'первая в 1908', 'последняя в 1912', 'Страна ARG', '239 медаль(-и-ей)', 'первая в 1924', 'последняя в 2008', 'Страна ARM', '9 медаль(-и-ей)', 'первая в 1996', 'последняя в 2008', 'Страна AUS', '1075 медаль(-и-ей)', 'первая в 1896', 'последняя в 2008', 'Страна AUT', '146 медаль(-и-ей)', 'первая в 1896', 'последняя в 2008', 'Страна AZE', '16 медаль(-и-ей)', 'первая в 1996', 'последняя в 2008', 'Страна BAH', '23 медаль(-и-ей)', 'первая в 1956', 'последняя в 2008', 'Страна BAR', '1 медаль(-и-ей)', 'первая в 2000', 'последняя в 2000', 'Страна BDI', '1 медаль(-и-ей)', 'первая в 1996', 'последняя в 1996', 'Страна BEL', '408 медаль(-и-ей)', 'первая в 1900', 'последняя в 2008', 'Страна BER', '1 медаль(-и-ей)', 'первая в 1976', 'последняя в 1976', 'Страна BLR', '92 медаль(-и-ей)', 'первая в 1996', 'последняя в 2008', 'Страна BOH', '7 медаль(-и-ей)', 'первая в 1900', 'последняя в 1908', 'Страна BRA', '372 медаль(-и-ей)', 'первая в 1920', 'последняя в 2008', 'Страна BUL', '331 медаль(-и-ей)', 'первая в 1952', 'последняя в 2008', 'Страна BWI', '5 медаль(-и-ей)', 'первая в 1960', 'последняя в 1960', 'Страна CAN', '592 медаль(-и-ей)', 'первая в 1900', 'последняя в 2008', 'Страна CHI', '33 медаль(-и-ей)', 'первая в 1928', 'последняя в 2008', 'Страна CHN', '679 медаль(-и-ей)', 'первая в 1984', 'последняя в 2008', 'Страна CIV', '1 медаль(-и-ей)', 'первая в 1984', 'последняя в 1984', 'Страна CMR', '22 медаль(-и-ей)', 'первая в 1968', 'последняя в 2008', 'Страна COL', '11 медаль(-и-ей)', 'первая в 1972', 'последняя в 2008', 'Страна CRC', '4 медаль(-и-ей)', 'первая в 1988', 'последняя в 2000', 'Страна CRO', '79 медаль(-и-ей)', 'первая в 1992', 'последняя в 2008', 'Страна CUB', '395 медаль(-и-ей)', 'первая в 1900', 'последняя в 2008', 'Страна CZE', '41 медаль(-и-ей)', 'первая в 1996', 'последняя в 2008', 'Страна DEN', '491 медаль(-и-ей)', 'первая в 1896', 'последняя в 2008', 'Страна DJI', '1 медаль(-и-ей)', 'первая в 1988', 'последняя в 1988', 'Страна DOM', '4 медаль(-и-ей)', 'первая в 1984', 'последняя в 2008', 'Страна ECU', '2 медаль(-и-ей)', 'первая в 1996', 'последняя в 2008', 'Страна EGY', '24 медаль(-и-ей)', 'первая в 1928', 'последняя в 2008', 'Страна ERI', '1 медаль(-и-ей)', 'первая в 2004', 'последняя в 2004', 'Страна ESP', '377 медаль(-и-ей)', 'первая в 1900', 'последняя в 2008', 'Страна EST', '37 медаль(-и-ей)', 'первая в 1920', 'последняя в 2008', 'Страна ETH', '38 медаль(-и-ей)', 'первая в 1960', 'последняя в 2008', 'Страна EUA', '260 медаль(-и-ей)', 'первая в 1956', 'последняя в 1964', 'Страна EUN', '223 медаль(-и-ей)', 'первая в 1992', 'последняя в 1992', 'Страна FIN', '451 медаль(-и-ей)', 'первая в 1908', 'последняя в 2008', 'Страна FRA', '1314 медаль(-и-ей)', 'первая в 1896', 'последняя в 2008', 'Страна FRG', '490 медаль(-и-ей)', 'первая в 1968', 'последняя в 1988', 'Страна GBR', '1594 медаль(-и-ей)', 'первая в 1896', 'последняя в 2008', 'Страна GDR', '825 медаль(-и-ей)', 'первая в 1968', 'последняя в 1988', 'Страна GEO', '18 медаль(-и-ей)', 'первая в 1996', 'последняя в 2008', 'Страна GER', '1211 медаль(-и-ей)', 'первая в 1896', 'последняя в 2008', 'Страна GHA', '16 медаль(-и-ей)', 'первая в 1960', 'последняя в 1992', 'Страна GRE', '145 медаль(-и-ей)', 'первая в 1896', 'последняя в 2008', 'Страна GUY', '1 медаль(-и-ей)', 'первая в 1980', 'последняя в 1980', 'Страна HAI', '8 медаль(-и-ей)', 'первая в 1924', 'последняя в 1928', 'Страна HKG', '3 медаль(-и-ей)', 'первая в 1996', 'последняя в 2004', 'Страна HUN', '1053 медаль(-и-ей)', 'первая в 1896', 'последняя в 2008', 'Страна INA', '35 медаль(-и-ей)', 'первая в 1988', 'последняя в 2008', 'Страна IND', '178 медаль(-и-ей)', 'первая в 1900', 'последняя в 2008', 'Страна IOP', '3 медаль(-и-ей)', 'первая в 1992', 'последняя в 1992', 'Страна IRI', '48 медаль(-и-ей)', 'первая в 1948', 'последняя в 2008', 'Страна IRL', '24 медаль(-и-ей)', 'первая в 1928', 'последняя в 2008', 'Страна IRQ', '1 медаль(-и-ей)', 'первая в 1960', 'последняя в 1960', 'Страна ISL', '17 медаль(-и-ей)', 'первая в 1956', 'последняя в 2008', 'Страна ISR', '7 медаль(-и-ей)', 'первая в 1992', 'последняя в 2008', 'Страна ISV', '1 медаль(-и-ей)', 'первая в 1988', 'последняя в 1988', 'Страна ITA', '1228 медаль(-и-ей)', 'первая в 1900', 'последняя в 2008', 'Страна JAM', '102 медаль(-и-ей)', 'первая в 1948', 'последняя в 2008', 'Страна JPN', '704 медаль(-и-ей)', 'первая в 1920', 'последняя в 2008', 'Страна KAZ', '39 медаль(-и-ей)', 'первая в 1996', 'последняя в 2008', 'Страна KEN', '81 медаль(-и-ей)', 'первая в 1964', 'последняя в 2008', 'Страна KGZ', '3 медаль(-и-ей)', 'первая в 2000', 'последняя в 2008', 'Страна KOR', '466 медаль(-и-ей)', 'первая в 1948', 'последняя в 2008', 'Страна KSA', '2 медаль(-и-ей)', 'первая в 2000', 'последняя в 2000', 'Страна KUW', '1 медаль(-и-ей)', 'первая в 2000', 'последняя в 2000', 'Страна LAT', '17 медаль(-и-ей)', 'первая в 1932', 'последняя в 2008', 'Страна LIB', '4 медаль(-и-ей)', 'первая в 1952', 'последняя в 1980', 'Страна LTU', '50 медаль(-и-ей)', 'первая в 1992', 'последняя в 2008', 'Страна LUX', '2 медаль(-и-ей)', 'первая в 1920', 'последняя в 1952', 'Страна MAR', '21 медаль(-и-ей)', 'первая в 1960', 'последняя в 2008', 'Страна MAS', '6 медаль(-и-ей)', 'первая в 1992', 'последняя в 2008', 'Страна MDA', '6 медаль(-и-ей)', 'первая в 1996', 'последняя в 2008', 'Страна MEX', '80 медаль(-и-ей)', 'первая в 1932', 'последняя в 2008', 'Страна MGL', '19 медаль(-и-ей)', 'первая в 1968', 'последняя в 2008', 'Страна MKD', '1 медаль(-и-ей)', 'первая в 2000', 'последняя в 2000', 'Страна MOZ', '2 медаль(-и-ей)', 'первая в 1996', 'последняя в 2000', 'Страна MRI', '1 медаль(-и-ей)', 'первая в 2008', 'последняя в 2008', 'Страна NAM', '4 медаль(-и-ей)', 'первая в 1992', 'последняя в 1996', 'Страна NED', '782 медаль(-и-ей)', 'первая в 1900', 'последняя в 2008', 'Страна NGR', '84 медаль(-и-ей)', 'первая в 1964', 'последняя в 2008', 'Страна NIG', '1 медаль(-и-ей)', 'первая в 1972', 'последняя в 1972', 'Страна NOR', '537 медаль(-и-ей)', 'первая в 1900', 'последняя в 2008', 'Страна NZL', '164 медаль(-и-ей)', 'первая в 1920', 'последняя в 2008', 'Страна PAK', '121 медаль(-и-ей)', 'первая в 1956', 'последняя в 1992', 'Страна PAN', '3 медаль(-и-ей)', 'первая в 1948', 'последняя в 2008', 'Страна PAR', '17 медаль(-и-ей)', 'первая в 2004', 'последняя в 2004', 'Страна PER', '15 медаль(-и-ей)', 'первая в 1948', 'последняя в 1992', 'Страна PHI', '9 медаль(-и-ей)', 'первая в 1928', 'последняя в 1996', 'Страна POL', '499 медаль(-и-ей)', 'первая в 1924', 'последняя в 2008', 'Страна POR', '31 медаль(-и-ей)', 'первая в 1924', 'последняя в 2008', 'Страна PRK', '52 медаль(-и-ей)', 'первая в 1972', 'последняя в 2008', 'Страна PUR', '6 медаль(-и-ей)', 'первая в 1948', 'последняя в 1996', 'Страна QAT', '2 медаль(-и-ей)', 'первая в 1992', 'последняя в 2000', 'Страна ROU', '624 медаль(-и-ей)', 'первая в 1924', 'последняя в 2008', 'Страна RSA', '97 медаль(-и-ей)', 'первая в 1908', 'последняя в 2008', 'Страна RU1', '17 медаль(-и-ей)', 'первая в 1908', 'последняя в 1912', 'Страна RUS', '638 медаль(-и-ей)', 'первая в 1996', 'последняя в 2008', 'Страна SCG', '14 медаль(-и-ей)', 'первая в 2004', 'последняя в 2004', 'Страна SEN', '1 медаль(-и-ей)', 'первая в 1988', 'последняя в 1988', 'Страна SIN', '4 медаль(-и-ей)', 'первая в 1960', 'последняя в 2008', 'Страна SLO', '21 медаль(-и-ей)', 'первая в 1992', 'последняя в 2008', 'Страна SRB', '15 медаль(-и-ей)', 'первая в 2008', 'последняя в 2008', 'Страна SRI', '2 медаль(-и-ей)', 'первая в 1948', 'последняя в 2000', 'Страна SUD', '1 медаль(-и-ей)', 'первая в 2008', 'последняя в 2008', 'Страна SUI', '376 медаль(-и-ей)', 'первая в 1896', 'последняя в 2008', 'Страна SUR', '2 медаль(-и-ей)', 'первая в 1988', 'последняя в 1992', 'Страна SVK', '29 медаль(-и-ей)', 'первая в 1996', 'последняя в 2008', 'Страна SWE', '1021 медаль(-и-ей)', 'первая в 1900', 'последняя в 2008', 'Страна SYR', '3 медаль(-и-ей)', 'первая в 1984', 'последняя в 2004', 'Страна TAN', '2 медаль(-и-ей)', 'первая в 1980', 'последняя в 1980', 'Страна TCH', '329 медаль(-и-ей)', 'первая в 1920', 'последняя в 1992', 'Страна TGA', '1 медаль(-и-ей)', 'первая в 1996', 'последняя в 1996', 'Страна THA', '21 медаль(-и-ей)', 'первая в 1976', 'последняя в 2008', 'Страна TJK', '2 медаль(-и-ей)', 'первая в 2008', 'последняя в 2008', 'Страна TOG', '1 медаль(-и-ей)', 'первая в 2008', 'последняя в 2008', 'Страна TPE', '42 медаль(-и-ей)', 'первая в 1960', 'последняя в 2008', 'Страна TRI', '20 медаль(-и-ей)', 'первая в 1948', 'последняя в 2008', 'Страна TUN', '7 медаль(-и-ей)', 'первая в 1964', 'последняя в 2008', 'Страна TUR', '82 медаль(-и-ей)', 'первая в 1936', 'последняя в 2008', 'Страна UAE', '1 медаль(-и-ей)', 'первая в 2004', 'последняя в 2004', 'Страна UGA', '6 медаль(-и-ей)', 'первая в 1968', 'последняя в 1996', 'Страна UKR', '148 медаль(-и-ей)', 'первая в 1996', 'последняя в 2008', 'Страна URS', '2049 медаль(-и-ей)', 'первая в 1952', 'последняя в 1988', 'Страна URU', '76 медаль(-и-ей)', 'первая в 1924', 'последняя в 2000', 'Страна USA', '4335 медаль(-и-ей)', 'первая в 1896', 'последняя в 2008', 'Страна UZB', '17 медаль(-и-ей)', 'первая в 1996', 'последняя в 2008', 'Страна VEN', '11 медаль(-и-ей)', 'первая в 1952', 'последняя в 2008', 'Страна VIE', '2 медаль(-и-ей)', 'первая в 2000', 'последняя в 2008', 'Страна YUG', '435 медаль(-и-ей)', 'первая в 1924', 'последняя в 2000', 'Страна ZAM', '2 медаль(-и-ей)', 'первая в 1984', 'последняя в 1996', 'Страна ZIM', '23 медаль(-и-ей)', 'первая в 1980', 'последняя в 2008', 'Страна ZZX', '48 медаль(-и-ей)', 'первая в 1896', 'последняя в 1904']\n"
     ]
    }
   ],
   "source": [
    "# 7) Создайте список показывающий число всех медалей выигранных каждой страной в\n",
    "# течение всей истории олимпийских игр. Для каждой страны, необходимо показать год\n",
    "# первой и последней заработанной медали.\n",
    "\n",
    "#не знаю как это сделать быстрее. Была мысль сделать то же с помощью np.append(), но вроде пишут, что памяти много занимает.\n",
    "arr = []\n",
    "for value, group in df.groupby('NOC'):\n",
    "    arr.append(f'Страна {value}')\n",
    "    arr.append(f'{group.shape[0]} медаль(-и-ей)')\n",
    "    arr.append(f'первая в {group.Edition.min()}')\n",
    "    arr.append(f'последняя в {group.Edition.max()}')\n",
    "print(arr)"
   ]
  },
  {
   "cell_type": "code",
   "execution_count": 18,
   "id": "6231b74a",
   "metadata": {},
   "outputs": [
    {
     "data": {
      "text/html": [
       "<style type=\"text/css\">\n",
       "</style>\n",
       "<table id=\"T_8927f\">\n",
       "  <thead>\n",
       "    <tr>\n",
       "      <th id=\"T_8927f_level0_col0\" class=\"col_heading level0 col0\" >Athlete</th>\n",
       "    </tr>\n",
       "  </thead>\n",
       "  <tbody>\n",
       "    <tr>\n",
       "      <td id=\"T_8927f_row0_col0\" class=\"data row0 col0\" >DIX, Walter</td>\n",
       "    </tr>\n",
       "    <tr>\n",
       "      <td id=\"T_8927f_row1_col0\" class=\"data row1 col0\" >BOLT, Usain</td>\n",
       "    </tr>\n",
       "    <tr>\n",
       "      <td id=\"T_8927f_row2_col0\" class=\"data row2 col0\" >THOMPSON, Richard</td>\n",
       "    </tr>\n",
       "    <tr>\n",
       "      <td id=\"T_8927f_row3_col0\" class=\"data row3 col0\" >FRASER, Shelly-ann</td>\n",
       "    </tr>\n",
       "    <tr>\n",
       "      <td id=\"T_8927f_row4_col0\" class=\"data row4 col0\" >SIMPSON, Sherone</td>\n",
       "    </tr>\n",
       "    <tr>\n",
       "      <td id=\"T_8927f_row5_col0\" class=\"data row5 col0\" >STEWART, Kerron</td>\n",
       "    </tr>\n",
       "    <tr>\n",
       "      <td id=\"T_8927f_row6_col0\" class=\"data row6 col0\" >DIX, Walter</td>\n",
       "    </tr>\n",
       "    <tr>\n",
       "      <td id=\"T_8927f_row7_col0\" class=\"data row7 col0\" >BOLT, Usain</td>\n",
       "    </tr>\n",
       "    <tr>\n",
       "      <td id=\"T_8927f_row8_col0\" class=\"data row8 col0\" >CRAWFORD, Shawn</td>\n",
       "    </tr>\n",
       "    <tr>\n",
       "      <td id=\"T_8927f_row9_col0\" class=\"data row9 col0\" >STEWART, Kerron</td>\n",
       "    </tr>\n",
       "    <tr>\n",
       "      <td id=\"T_8927f_row10_col0\" class=\"data row10 col0\" >CAMPBELL-BROWN, Veronica</td>\n",
       "    </tr>\n",
       "    <tr>\n",
       "      <td id=\"T_8927f_row11_col0\" class=\"data row11 col0\" >FELIX, Allyson</td>\n",
       "    </tr>\n",
       "  </tbody>\n",
       "</table>\n"
      ],
      "text/plain": [
       "<pandas.io.formats.style.Styler at 0x1df12a10820>"
      ]
     },
     "execution_count": 18,
     "metadata": {},
     "output_type": "execute_result"
    }
   ],
   "source": [
    "# 8) Атлеты выигравшие медали в Beijing на дистанции 100m или 200m.\n",
    "\n",
    "dataframe = df[(df.City == 'Beijing') & ((df.Event == '100m') | (df.Event == '200m'))]\n",
    "dataframe[['Athlete']].style.hide(axis='index')"
   ]
  },
  {
   "cell_type": "code",
   "execution_count": 33,
   "id": "3db81d11",
   "metadata": {},
   "outputs": [
    {
     "data": {
      "text/plain": [
       "<AxesSubplot:xlabel='Gender'>"
      ]
     },
     "execution_count": 33,
     "metadata": {},
     "output_type": "execute_result"
    },
    {
     "data": {
      "image/png": "[encoded data removed]",
      "text/plain": [
       "<Figure size 432x288 with 1 Axes>"
      ]
     },
     "metadata": {
      "needs_background": "light"
     },
     "output_type": "display_data"
    }
   ],
   "source": [
    "# 9) Постройте график числа золотых медалей выигранных США мужчинами и женщинами в атлетике.\n",
    "\n",
    "dataframe = df[(df.Medal == 'Gold') & (df.NOC == 'USA') & (df.Sport == 'Athletics')]\n",
    "dataframe.groupby('Gender').size().plot.bar()"
   ]
  },
  {
   "cell_type": "code",
   "execution_count": 41,
   "id": "d45cc88d",
   "metadata": {},
   "outputs": [
    {
     "data": {
      "text/plain": [
       "<AxesSubplot:xlabel='Athlete'>"
      ]
     },
     "execution_count": 41,
     "metadata": {},
     "output_type": "execute_result"
    },
    {
     "data": {
      "image/png": "[encoded data removed]",
      "text/plain": [
       "<Figure size 432x288 with 1 Axes>"
      ]
     },
     "metadata": {
      "needs_background": "light"
     },
     "output_type": "display_data"
    }
   ],
   "source": [
    "# 10) Постройте график 5 атлетов которые выиграли большинство золотых медалей.\n",
    "\n",
    "dataframe = df.groupby('Athlete').size().sort_values(ascending=False).head(5)\n",
    "dataframe.plot.bar()"
   ]
  },
  {
   "cell_type": "code",
   "execution_count": 67,
   "id": "610f2b29",
   "metadata": {},
   "outputs": [
    {
     "data": {
      "text/plain": [
       "'Суммарное количество медалей выигранных странами в последних олимпийских играх: 2042'"
      ]
     },
     "execution_count": 67,
     "metadata": {},
     "output_type": "execute_result"
    }
   ],
   "source": [
    "# 11) Покажите суммарное количество медалей выигранных странами в последних олимпийских играх.\n",
    "\n",
    "dataframe = df[df.Edition == df.iloc[-1]['Edition']].shape[0]\n",
    "'Суммарное количество медалей выигранных странами в последних олимпийских играх: {}'.format(dataframe)"
   ]
  },
  {
   "cell_type": "code",
   "execution_count": 80,
   "id": "c3f0476a",
   "metadata": {},
   "outputs": [
    {
     "name": "stdout",
     "output_type": "stream",
     "text": [
      "Edition  Athlete          Discipline\n",
      "1896     GARRETT, Robert  Athletics     4\n",
      "dtype: int64\n",
      "Edition  Athlete         Discipline\n",
      "1900     BAXTER, Irving  Athletics     5\n",
      "dtype: int64\n",
      "Edition  Athlete        Discipline \n",
      "1904     EYSER, George  Artistic G.    6\n",
      "dtype: int64\n",
      "Edition  Athlete           Discipline\n",
      "1908     SHERIDAN, Martin  Athletics     3\n",
      "dtype: int64\n",
      "Edition  Athlete                Discipline\n",
      "1912     OSBURN, Carl Townsend  Shooting      4\n",
      "dtype: int64\n",
      "Edition  Athlete                 Discipline\n",
      "1920     SPOONER, Lloyd Spencer  Shooting      7\n",
      "dtype: int64\n",
      "Edition  Athlete            Discipline\n",
      "1924     RICHARDS, Vincent  Tennis        3\n",
      "dtype: int64\n",
      "Edition  Athlete                 Discipline\n",
      "1928     OSIPOWICH, Albina Lucy  Swimming      2\n",
      "dtype: int64\n",
      "Edition  Athlete             Discipline\n",
      "1932     DIDRIKSON, Mildred  Athletics     3\n",
      "dtype: int64\n",
      "Edition  Athlete       Discipline\n",
      "1936     OWENS, Jesse  Athletics     4\n",
      "dtype: int64\n",
      "Edition  Athlete                  Discipline\n",
      "1948     MCLANE, James Price Jr.  Swimming      3\n",
      "dtype: int64\n",
      "Edition  Athlete              Discipline\n",
      "1952     KONNO, Ford Hiroshi  Swimming      3\n",
      "dtype: int64\n",
      "Edition  Athlete                Discipline\n",
      "1956     MORROW, Robert Joseph  Athletics     3\n",
      "dtype: int64\n",
      "Edition  Athlete                      Discipline\n",
      "1960     VON SALTZA, Susan Christina  Swimming      4\n",
      "dtype: int64\n",
      "Edition  Athlete                Discipline\n",
      "1964     STOUDER, Sharon Marie  Swimming      4\n",
      "dtype: int64\n",
      "Edition  Athlete                    Discipline\n",
      "1968     HICKCOX, Charles Buchanan  Swimming      4\n",
      "dtype: int64\n",
      "Edition  Athlete      Discipline\n",
      "1972     SPITZ, Mark  Swimming      7\n",
      "dtype: int64\n",
      "Edition  Athlete                    Discipline\n",
      "1976     BABASHOFF, Shirley Farber  Swimming      5\n",
      "dtype: int64\n",
      "Edition  Athlete           Discipline \n",
      "1984     RETTON, Mary-Lou  Artistic G.    5\n",
      "dtype: int64\n",
      "Edition  Athlete          Discipline\n",
      "1988     BIONDI, Matthew  Swimming      7\n",
      "dtype: int64\n",
      "Edition  Athlete          Discipline \n",
      "1992     MILLER, Shannon  Artistic G.    5\n",
      "dtype: int64\n",
      "Edition  Athlete         Discipline\n",
      "1996     HALL, Gary Jr.  Swimming      4\n",
      "dtype: int64\n",
      "Edition  Athlete       Discipline\n",
      "2000     TORRES, Dara  Swimming      5\n",
      "dtype: int64\n",
      "Edition  Athlete          Discipline\n",
      "2004     PHELPS, Michael  Swimming      8\n",
      "dtype: int64\n",
      "Edition  Athlete          Discipline\n",
      "2008     PHELPS, Michael  Swimming      8\n",
      "dtype: int64\n"
     ]
    }
   ],
   "source": [
    "# 12) Постройте таблицу в которой по годам всех олимпиад покажите топовых атлетов\n",
    "# США(1 атлет на год) по общему количеству медалей. Включите дисциплину атлета.\n",
    "\n",
    "dataframe = df[df.NOC == 'USA']\n",
    "# два часа ломал голову, в итоге сделал только так, как сделать таблицу не знаю. Буду рад намеку, как это можно реализовать.\n",
    "for value, group in dataframe.groupby(['Edition']):\n",
    "    print(group.groupby(['Edition', 'Athlete', 'Discipline']).size().sort_values(ascending=False).head(1))"
   ]
  },
  {
   "cell_type": "code",
   "execution_count": null,
   "id": "9b3efbd7",
   "metadata": {},
   "outputs": [],
   "source": []
  }
 ],
 "metadata": {
  "kernelspec": {
   "display_name": "Python 3 (ipykernel)",
   "language": "python",
   "name": "python3"
  },
  "language_info": {
   "codemirror_mode": {
    "name": "ipython",
    "version": 3
   },
   "file_extension": ".py",
   "mimetype": "text/x-python",
   "name": "python",
   "nbconvert_exporter": "python",
   "pygments_lexer": "ipython3",
   "version": "3.9.1"
  }
 },
 "nbformat": 4,
 "nbformat_minor": 5
}
