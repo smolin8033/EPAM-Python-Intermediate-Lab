{
 "cells": [
  {
   "cell_type": "markdown",
   "id": "6ab17942",
   "metadata": {},
   "source": [
    "#### Получилось сделать, чтобы все работало, только так. Часть методов вызываю из класса, для части создаю объект и вызываю из объекта.\n",
    "#### Не могу сделать тесты только в абстрактном классе, при применении на объектах дочерних классов ошибка: TypeError: Can't instantiate abstract class FirstDict with abstract method test_create_from_arr"
   ]
  },
  {
   "cell_type": "code",
   "execution_count": 121,
   "id": "571a91af",
   "metadata": {},
   "outputs": [],
   "source": [
    "import cProfile\n",
    "from abc import ABC, abstractmethod"
   ]
  },
  {
   "cell_type": "code",
   "execution_count": 122,
   "id": "8cf6365f",
   "metadata": {},
   "outputs": [],
   "source": [
    "my_arr = [10, 50, 100, 35]"
   ]
  },
  {
   "cell_type": "code",
   "execution_count": 123,
   "id": "de674ed6",
   "metadata": {},
   "outputs": [],
   "source": [
    "class AbstractDict(ABC):\n",
    "    \"\"\"\n",
    "    Abstract class for appending, reading from a dictionary\n",
    "    \"\"\"\n",
    "    @classmethod\n",
    "    @abstractmethod\n",
    "    def create_from_arr(self, arr: list):\n",
    "        \"\"\"Create a dict from array\"\"\"\n",
    "        pass\n",
    "\n",
    "    @classmethod\n",
    "    @abstractmethod\n",
    "    def read_nonexistent_key(self, arr: list):\n",
    "        \"\"\"Read a non-existent key\"\"\"\n",
    "        pass\n",
    "\n",
    "    @classmethod\n",
    "    @abstractmethod\n",
    "    def run_create(n: int = 50, print_output: bool = True):\n",
    "        \"\"\"Method to run create_from_arr() lots of times\"\"\"\n",
    "        pass\n",
    "\n",
    "    @classmethod\n",
    "    @abstractmethod\n",
    "    def run_read(n: int = 50, print_output: bool = True):\n",
    "        \"\"\"Method to run read_nonexistent_key() lots of times\"\"\"\n",
    "        pass\n",
    "\n",
    "    @classmethod\n",
    "    @abstractmethod\n",
    "    def run_benchmark(cls, n: int = 300):\n",
    "        \"\"\"Method to run run_create() lots of times\"\"\"\n",
    "        pass\n",
    "\n",
    "    @classmethod\n",
    "    @abstractmethod\n",
    "    def test_create_from_arr(self):\n",
    "        \"\"\"Method to test create_from_arr()\"\"\"\n",
    "        pass\n",
    "\n",
    "    @classmethod\n",
    "    @abstractmethod\n",
    "    def test_read_nonexistent_key(self):\n",
    "        \"\"\"Method to test read_nonexistent_key()\"\"\"\n",
    "        pass"
   ]
  },
  {
   "cell_type": "code",
   "execution_count": 124,
   "id": "76fb2fdc",
   "metadata": {},
   "outputs": [],
   "source": [
    "class FirstDict(AbstractDict):\n",
    "    @classmethod\n",
    "    def create_from_arr(self, arr=my_arr):\n",
    "        \"\"\"Use the built-in dict __setitem__ method to create a dict from array\"\"\"\n",
    "        self.dict_ = {}\n",
    "        for i in arr:\n",
    "            self.dict_[i] = f'The value is {i}'\n",
    "        return self.dict_\n",
    "\n",
    "    @classmethod\n",
    "    def read_nonexistent_key(self):\n",
    "        \"\"\"Use the try/except construction to read a non-existent key\"\"\"\n",
    "        try:\n",
    "            self.dict_['someting']\n",
    "        except KeyError:\n",
    "            return None\n",
    "\n",
    "    @classmethod\n",
    "    def run_create(cls, arr: list, n: int = 50):\n",
    "        \"\"\"Method to run create_from_arr() lots of times\"\"\"\n",
    "        for i in range(n):\n",
    "            made_dict = FirstDict.create_from_arr(arr)\n",
    "        return made_dict\n",
    "\n",
    "    @classmethod\n",
    "    def run_read(self, n: int = 50, print_output: bool = True):\n",
    "        \"\"\"Method to run read_nonexistent_key() lots of times\"\"\"\n",
    "        for i in range(n):\n",
    "            return self.read_nonexistent_key()\n",
    "\n",
    "    @classmethod\n",
    "    def run_benchmark(cls, n: int = 300):\n",
    "        for _ in range(n):\n",
    "            cls.run_create(arr=my_arr)\n",
    "\n",
    "    @classmethod\n",
    "    def test_create_from_arr(self):\n",
    "        assert self.create_from_arr() == {10: 'The value is 10', 50: 'The value is 50',\n",
    "                                          100: 'The value is 100', 35: 'The value is 35'}\n",
    "\n",
    "    @classmethod\n",
    "    def test_read_nonexistent_key(self):\n",
    "        assert self.read_nonexistent_key() is None"
   ]
  },
  {
   "cell_type": "code",
   "execution_count": 125,
   "id": "4944e53d",
   "metadata": {},
   "outputs": [],
   "source": [
    "first_dict = FirstDict()\n",
    "first_dict.test_create_from_arr()\n",
    "first_dict.test_read_nonexistent_key()"
   ]
  },
  {
   "cell_type": "code",
   "execution_count": 126,
   "id": "f9781dc5",
   "metadata": {},
   "outputs": [],
   "source": [
    "class SecondDict(AbstractDict):\n",
    "    @classmethod\n",
    "    def create_from_arr(self, arr=my_arr):\n",
    "        \"\"\"Use the built-in dict update() method to create a dict from array\"\"\"\n",
    "        self.dict_ = {}\n",
    "        for i in arr:\n",
    "            self.dict_.update({i: f'The value is {i}'})\n",
    "        return self.dict_\n",
    "\n",
    "    @classmethod\n",
    "    def read_nonexistent_key(self):\n",
    "        \"\"\"Use the built-in dict get method to read a non-existent key\"\"\"\n",
    "        return self.dict_.get('someting', None)\n",
    "\n",
    "    @classmethod\n",
    "    def run_create(cls, arr: list, n: int = 50):\n",
    "        \"\"\"Method to run create_from_arr() lots of times\"\"\"\n",
    "        for i in range(n):\n",
    "            made_dict = SecondDict.create_from_arr(arr)\n",
    "        return made_dict\n",
    "\n",
    "    @classmethod\n",
    "    def run_read(self, n: int = 50, print_output: bool = True):\n",
    "        \"\"\"Method to run read_nonexistent_key() lots of times\"\"\"\n",
    "        for i in range(n):\n",
    "            return self.read_nonexistent_key()\n",
    "\n",
    "    @classmethod\n",
    "    def run_benchmark(cls, n: int = 300):\n",
    "        for _ in range(n):\n",
    "            cls.run_create(arr=my_arr)\n",
    "\n",
    "    @classmethod\n",
    "    def test_create_from_arr(self):\n",
    "        assert self.create_from_arr() == {10: 'The value is 10', 50: 'The value is 50',\n",
    "                                          100: 'The value is 100', 35: 'The value is 35'}\n",
    "\n",
    "    @classmethod\n",
    "    def test_read_nonexistent_key(self):\n",
    "        assert self.read_nonexistent_key() is None"
   ]
  },
  {
   "cell_type": "code",
   "execution_count": 127,
   "id": "92a97b8a",
   "metadata": {},
   "outputs": [],
   "source": [
    "second_dict = SecondDict()\n",
    "second_dict.test_create_from_arr()\n",
    "second_dict.test_read_nonexistent_key()"
   ]
  },
  {
   "cell_type": "code",
   "execution_count": 128,
   "id": "a85a73de",
   "metadata": {},
   "outputs": [
    {
     "name": "stdout",
     "output_type": "stream",
     "text": [
      "44.2 µs ± 559 ns per loop (mean ± std. dev. of 7 runs, 10,000 loops each)\n"
     ]
    }
   ],
   "source": [
    "%timeit FirstDict.run_create(my_arr)"
   ]
  },
  {
   "cell_type": "code",
   "execution_count": 129,
   "id": "0c81e59e",
   "metadata": {},
   "outputs": [
    {
     "name": "stdout",
     "output_type": "stream",
     "text": [
      "492 ns ± 3.11 ns per loop (mean ± std. dev. of 7 runs, 1,000,000 loops each)\n"
     ]
    }
   ],
   "source": [
    "%timeit first_dict.run_read()"
   ]
  },
  {
   "cell_type": "code",
   "execution_count": 130,
   "id": "31f3ea88",
   "metadata": {},
   "outputs": [
    {
     "name": "stdout",
     "output_type": "stream",
     "text": [
      "63 µs ± 595 ns per loop (mean ± std. dev. of 7 runs, 10,000 loops each)\n"
     ]
    }
   ],
   "source": [
    "%timeit SecondDict.run_create(my_arr)"
   ]
  },
  {
   "cell_type": "code",
   "execution_count": 131,
   "id": "e445570f",
   "metadata": {},
   "outputs": [
    {
     "name": "stdout",
     "output_type": "stream",
     "text": [
      "355 ns ± 2.24 ns per loop (mean ± std. dev. of 7 runs, 1,000,000 loops each)\n"
     ]
    }
   ],
   "source": [
    "%timeit second_dict.run_read()"
   ]
  },
  {
   "cell_type": "code",
   "execution_count": 132,
   "id": "8dacbd9d",
   "metadata": {},
   "outputs": [
    {
     "name": "stdout",
     "output_type": "stream",
     "text": [
      "         15304 function calls in 0.018 seconds\n",
      "\n",
      "   Ordered by: call count\n",
      "\n",
      "   ncalls  tottime  percall  cumtime  percall filename:lineno(function)\n",
      "    15000    0.013    0.000    0.013    0.000 2144250933.py:2(create_from_arr)\n",
      "      300    0.005    0.000    0.018    0.000 2144250933.py:18(run_create)\n",
      "        1    0.000    0.000    0.018    0.018 2144250933.py:31(run_benchmark)\n",
      "        1    0.000    0.000    0.018    0.018 <string>:1(<module>)\n",
      "        1    0.000    0.000    0.018    0.018 {built-in method builtins.exec}\n",
      "        1    0.000    0.000    0.000    0.000 {method 'disable' of '_lsprof.Profiler' objects}\n",
      "\n",
      "\n"
     ]
    }
   ],
   "source": [
    "cProfile.run('FirstDict.run_benchmark()', sort='ncalls')"
   ]
  },
  {
   "cell_type": "code",
   "execution_count": 133,
   "id": "445a8bab",
   "metadata": {},
   "outputs": [
    {
     "name": "stdout",
     "output_type": "stream",
     "text": [
      "         75304 function calls in 0.034 seconds\n",
      "\n",
      "   Ordered by: call count\n",
      "\n",
      "   ncalls  tottime  percall  cumtime  percall filename:lineno(function)\n",
      "    60000    0.008    0.000    0.008    0.000 {method 'update' of 'dict' objects}\n",
      "    15000    0.022    0.000    0.029    0.000 560882197.py:2(create_from_arr)\n",
      "      300    0.005    0.000    0.034    0.000 560882197.py:15(run_create)\n",
      "        1    0.000    0.000    0.034    0.034 560882197.py:28(run_benchmark)\n",
      "        1    0.000    0.000    0.034    0.034 <string>:1(<module>)\n",
      "        1    0.000    0.000    0.034    0.034 {built-in method builtins.exec}\n",
      "        1    0.000    0.000    0.000    0.000 {method 'disable' of '_lsprof.Profiler' objects}\n",
      "\n",
      "\n"
     ]
    }
   ],
   "source": [
    "cProfile.run('SecondDict.run_benchmark()', sort='ncalls')"
   ]
  },
  {
   "cell_type": "markdown",
   "id": "f585144f",
   "metadata": {},
   "source": [
    "#### Метод добавления в словарь с помощью builtinовского метода __setitem__ работает быстрее, чем метод добавления в словарь с помощью builtinовского метода update. Чтение отсутствующего ключа с выведением None работает быстрее в случае с builtinовским методом get, чем в случае с конструкцией try/except."
   ]
  },
  {
   "cell_type": "code",
   "execution_count": 134,
   "id": "ee5bf321",
   "metadata": {},
   "outputs": [
    {
     "name": "stdout",
     "output_type": "stream",
     "text": [
      "The memory_profiler extension is already loaded. To reload it, use:\n",
      "  %reload_ext memory_profiler\n"
     ]
    }
   ],
   "source": [
    "%load_ext memory_profiler"
   ]
  },
  {
   "cell_type": "code",
   "execution_count": 135,
   "id": "d297c034",
   "metadata": {},
   "outputs": [
    {
     "name": "stdout",
     "output_type": "stream",
     "text": [
      "Overwriting first_dict.py\n"
     ]
    }
   ],
   "source": [
    "%%writefile first_dict.py\n",
    "\n",
    "from memory_profiler import profile\n",
    "\n",
    "my_arr = [10, 50, 100, 35]\n",
    "\n",
    "\n",
    "def first_dict(arr):\n",
    "    new_dict = {}\n",
    "    for i in arr:\n",
    "        new_dict[i] = f'The value is {i}'\n",
    "    return new_dict\n",
    "\n",
    "\n",
    "@profile\n",
    "def run_first_dict():\n",
    "    for i in range(100, 1000000, 200):\n",
    "        result = first_dict(my_arr)\n",
    "    return result\n",
    "\n",
    "\n",
    "if __name__ == '__main__':\n",
    "    run_first_dict()"
   ]
  },
  {
   "cell_type": "code",
   "execution_count": 136,
   "id": "b1a07527",
   "metadata": {},
   "outputs": [
    {
     "name": "stdout",
     "output_type": "stream",
     "text": [
      "Filename: C:\\Users\\Мария\\PycharmProjects\\aleksandr_smolin_python_hw\\hw3_profiling\\first_dict.py\n",
      "\n",
      "Line #    Mem usage    Increment  Occurrences   Line Contents\n",
      "=============================================================\n",
      "    14     41.2 MiB     41.2 MiB           1   @profile\n",
      "    15                                         def run_first_dict():\n",
      "    16     41.2 MiB      0.0 MiB        5001       for i in range(100, 1000000, 200):\n",
      "    17     41.2 MiB      0.0 MiB        5000           result = first_dict(my_arr)\n",
      "    18     41.2 MiB      0.0 MiB           1       return result\n",
      "\n",
      "\n"
     ]
    }
   ],
   "source": [
    "!python first_dict.py"
   ]
  },
  {
   "cell_type": "code",
   "execution_count": 137,
   "id": "1466ac8c",
   "metadata": {},
   "outputs": [
    {
     "name": "stdout",
     "output_type": "stream",
     "text": [
      "Overwriting second_dict.py\n"
     ]
    }
   ],
   "source": [
    "%%writefile second_dict.py\n",
    "\n",
    "from memory_profiler import profile\n",
    "\n",
    "my_arr = [10, 50, 100, 35]\n",
    "\n",
    "\n",
    "def second_dict(arr):\n",
    "    new_dict = {}\n",
    "    for i in arr:\n",
    "        new_dict.update({i: f'The value is {i}'})\n",
    "    return new_dict\n",
    "\n",
    "\n",
    "@profile\n",
    "def run_second_dict():\n",
    "    for i in range(100, 1000000, 200):\n",
    "        result = second_dict(my_arr)\n",
    "    return result\n",
    "\n",
    "\n",
    "if __name__ == '__main__':\n",
    "    run_second_dict()"
   ]
  },
  {
   "cell_type": "code",
   "execution_count": 138,
   "id": "d6bb1bb8",
   "metadata": {},
   "outputs": [
    {
     "name": "stdout",
     "output_type": "stream",
     "text": [
      "Filename: C:\\Users\\Мария\\PycharmProjects\\aleksandr_smolin_python_hw\\hw3_profiling\\second_dict.py\n",
      "\n",
      "Line #    Mem usage    Increment  Occurrences   Line Contents\n",
      "=============================================================\n",
      "    14     41.6 MiB     41.6 MiB           1   @profile\n",
      "    15                                         def run_second_dict():\n",
      "    16     41.6 MiB      0.0 MiB        5001       for i in range(100, 1000000, 200):\n",
      "    17     41.6 MiB      0.0 MiB        5000           result = second_dict(my_arr)\n",
      "    18     41.6 MiB      0.0 MiB           1       return result\n",
      "\n",
      "\n"
     ]
    }
   ],
   "source": [
    "!python second_dict.py"
   ]
  },
  {
   "cell_type": "markdown",
   "id": "193a5d78",
   "metadata": {},
   "source": [
    "#### Не прослеживаются изменения в потреблении оперативной памяти при добавлении в оба словаря"
   ]
  },
  {
   "cell_type": "code",
   "execution_count": null,
   "id": "dc5497f9",
   "metadata": {},
   "outputs": [],
   "source": []
  }
 ],
 "metadata": {
  "kernelspec": {
   "display_name": "Python 3 (ipykernel)",
   "language": "python",
   "name": "python3"
  },
  "language_info": {
   "codemirror_mode": {
    "name": "ipython",
    "version": 3
   },
   "file_extension": ".py",
   "mimetype": "text/x-python",
   "name": "python",
   "nbconvert_exporter": "python",
   "pygments_lexer": "ipython3",
   "version": "3.9.1"
  }
 },
 "nbformat": 4,
 "nbformat_minor": 5
}
