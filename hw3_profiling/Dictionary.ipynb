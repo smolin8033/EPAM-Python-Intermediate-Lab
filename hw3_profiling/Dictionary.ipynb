{
 "cells": [
  {
   "cell_type": "code",
   "execution_count": 14,
   "id": "571a91af",
   "metadata": {},
   "outputs": [],
   "source": [
    "import cProfile\n",
    "import random\n",
    "from abc import ABC, abstractmethod"
   ]
  },
  {
   "cell_type": "code",
   "execution_count": 15,
   "id": "8cf6365f",
   "metadata": {},
   "outputs": [],
   "source": [
    "my_arr = [10, 50, 100, 35]"
   ]
  },
  {
   "cell_type": "code",
   "execution_count": 3,
   "id": "de674ed6",
   "metadata": {},
   "outputs": [],
   "source": [
    "class AbstractDict(ABC):\n",
    "    \"\"\"\n",
    "    Abstract class for appending, reading from a dictionary\n",
    "    \"\"\"\n",
    "    @classmethod\n",
    "    @abstractmethod\n",
    "    def make_dict(arr: list):\n",
    "        \"\"\"Method to create a dict from array and to read non-existent key to return None\"\"\"\n",
    "        pass\n",
    "\n",
    "    @classmethod\n",
    "    @abstractmethod\n",
    "    def run(n: int = 50, print_output: bool = True):\n",
    "        \"\"\"Method to run array-to-dict transformation lots of times, appending new number to the array every time\"\"\"\n",
    "        pass\n",
    "\n",
    "    @classmethod\n",
    "    def run_benchmark(cls, n: int = 150):\n",
    "        for _ in range(n):\n",
    "            cls.run(print_output=False)"
   ]
  },
  {
   "cell_type": "code",
   "execution_count": 4,
   "id": "76fb2fdc",
   "metadata": {},
   "outputs": [],
   "source": [
    "class StandardDict(AbstractDict):\n",
    "    @classmethod\n",
    "    def make_dict(cls, arr=my_arr):\n",
    "        new_dict = {}\n",
    "        for i in arr:\n",
    "            new_dict[i] = f'The value is {i}'\n",
    "        try:\n",
    "            print(new_dict['someting'])\n",
    "        except KeyError:\n",
    "            return None\n",
    "\n",
    "    @classmethod\n",
    "    def run(cls, n: int = 50, print_output: bool = True):\n",
    "        for i in range(n):\n",
    "            global my_arr\n",
    "            my_arr.append(random.randint(1, 1000))\n",
    "            made_dict = StandardDict.make_dict()\n",
    "            if i > 20 and print_output:\n",
    "                print(f'{i} - {made_dict}')\n",
    "        my_arr = [10, 50, 100, 35]"
   ]
  },
  {
   "cell_type": "code",
   "execution_count": 5,
   "id": "4944e53d",
   "metadata": {},
   "outputs": [
    {
     "name": "stdout",
     "output_type": "stream",
     "text": [
      "21 - None\n",
      "22 - None\n",
      "23 - None\n",
      "24 - None\n",
      "25 - None\n",
      "26 - None\n",
      "27 - None\n",
      "28 - None\n",
      "29 - None\n",
      "30 - None\n",
      "31 - None\n",
      "32 - None\n",
      "33 - None\n",
      "34 - None\n",
      "35 - None\n",
      "36 - None\n",
      "37 - None\n",
      "38 - None\n",
      "39 - None\n",
      "40 - None\n",
      "41 - None\n",
      "42 - None\n",
      "43 - None\n",
      "44 - None\n",
      "45 - None\n",
      "46 - None\n",
      "47 - None\n",
      "48 - None\n",
      "49 - None\n"
     ]
    }
   ],
   "source": [
    "StandardDict.run()"
   ]
  },
  {
   "cell_type": "code",
   "execution_count": 16,
   "id": "f9781dc5",
   "metadata": {},
   "outputs": [],
   "source": [
    "class BuiltInMethodsDict(AbstractDict):\n",
    "    @classmethod\n",
    "    def make_dict(cls, arr=my_arr):\n",
    "        new_dict = dict()\n",
    "        for i in arr:\n",
    "            new_dict.update({i: f'The value is {i}'})\n",
    "        return new_dict.get('someting', None)\n",
    "\n",
    "    @classmethod\n",
    "    def run(cls, n: int = 50, print_output: bool = True):\n",
    "        for i in range(n):\n",
    "            global my_arr\n",
    "            my_arr.append(random.randint(1, 1000))\n",
    "            made_dict = BuiltInMethodsDict.make_dict()\n",
    "            if i > 20 and print_output:\n",
    "                print(f'{i} - {made_dict}')\n",
    "        my_arr = [10, 50, 100, 35]"
   ]
  },
  {
   "cell_type": "code",
   "execution_count": 7,
   "id": "92a97b8a",
   "metadata": {},
   "outputs": [
    {
     "name": "stdout",
     "output_type": "stream",
     "text": [
      "21 - None\n",
      "22 - None\n",
      "23 - None\n",
      "24 - None\n",
      "25 - None\n",
      "26 - None\n",
      "27 - None\n",
      "28 - None\n",
      "29 - None\n",
      "30 - None\n",
      "31 - None\n",
      "32 - None\n",
      "33 - None\n",
      "34 - None\n",
      "35 - None\n",
      "36 - None\n",
      "37 - None\n",
      "38 - None\n",
      "39 - None\n",
      "40 - None\n",
      "41 - None\n",
      "42 - None\n",
      "43 - None\n",
      "44 - None\n",
      "45 - None\n",
      "46 - None\n",
      "47 - None\n",
      "48 - None\n",
      "49 - None\n"
     ]
    }
   ],
   "source": [
    "BuiltInMethodsDict.run()"
   ]
  },
  {
   "cell_type": "code",
   "execution_count": 8,
   "id": "a85a73de",
   "metadata": {},
   "outputs": [
    {
     "name": "stdout",
     "output_type": "stream",
     "text": [
      "505 µs ± 6.4 µs per loop (mean ± std. dev. of 7 runs, 1,000 loops each)\n"
     ]
    }
   ],
   "source": [
    "%timeit StandardDict.run(print_output=False)"
   ]
  },
  {
   "cell_type": "code",
   "execution_count": 9,
   "id": "31f3ea88",
   "metadata": {},
   "outputs": [
    {
     "name": "stdout",
     "output_type": "stream",
     "text": [
      "727 µs ± 14 µs per loop (mean ± std. dev. of 7 runs, 1,000 loops each)\n"
     ]
    }
   ],
   "source": [
    "%timeit BuiltInMethodsDict.run(print_output=False)"
   ]
  },
  {
   "cell_type": "code",
   "execution_count": 10,
   "id": "8dacbd9d",
   "metadata": {},
   "outputs": [
    {
     "name": "stdout",
     "output_type": "stream",
     "text": [
      "         52853 function calls in 0.090 seconds\n",
      "\n",
      "   Ordered by: call count\n",
      "\n",
      "   ncalls  tottime  percall  cumtime  percall filename:lineno(function)\n",
      "     7699    0.001    0.000    0.001    0.000 {method 'getrandbits' of '_random.Random' objects}\n",
      "     7500    0.003    0.000    0.005    0.000 random.py:237(_randbelow_with_getrandbits)\n",
      "     7500    0.004    0.000    0.009    0.000 random.py:290(randrange)\n",
      "     7500    0.002    0.000    0.011    0.000 random.py:334(randint)\n",
      "     7500    0.069    0.000    0.069    0.000 24747527.py:2(make_dict)\n",
      "     7500    0.001    0.000    0.001    0.000 {method 'append' of 'list' objects}\n",
      "     7500    0.001    0.000    0.001    0.000 {method 'bit_length' of 'int' objects}\n",
      "      150    0.009    0.000    0.089    0.001 24747527.py:12(run)\n",
      "        1    0.000    0.000    0.089    0.089 3873234461.py:19(run_benchmark)\n",
      "        1    0.000    0.000    0.089    0.089 <string>:1(<module>)\n",
      "        1    0.000    0.000    0.090    0.090 {built-in method builtins.exec}\n",
      "        1    0.000    0.000    0.000    0.000 {method 'disable' of '_lsprof.Profiler' objects}\n",
      "\n",
      "\n"
     ]
    }
   ],
   "source": [
    "cProfile.run('StandardDict.run_benchmark()', sort='ncalls')"
   ]
  },
  {
   "cell_type": "code",
   "execution_count": 11,
   "id": "445a8bab",
   "metadata": {},
   "outputs": [
    {
     "name": "stdout",
     "output_type": "stream",
     "text": [
      "         465342 function calls in 0.189 seconds\n",
      "\n",
      "   Ordered by: call count\n",
      "\n",
      "   ncalls  tottime  percall  cumtime  percall filename:lineno(function)\n",
      "   405000    0.054    0.000    0.054    0.000 {method 'update' of 'dict' objects}\n",
      "     7688    0.001    0.000    0.001    0.000 {method 'getrandbits' of '_random.Random' objects}\n",
      "     7500    0.003    0.000    0.005    0.000 random.py:237(_randbelow_with_getrandbits)\n",
      "     7500    0.004    0.000    0.009    0.000 random.py:290(randrange)\n",
      "     7500    0.002    0.000    0.011    0.000 random.py:334(randint)\n",
      "     7500    0.114    0.000    0.169    0.000 3675996204.py:2(make_dict)\n",
      "     7500    0.001    0.000    0.001    0.000 {method 'get' of 'dict' objects}\n",
      "     7500    0.001    0.000    0.001    0.000 {method 'append' of 'list' objects}\n",
      "     7500    0.001    0.000    0.001    0.000 {method 'bit_length' of 'int' objects}\n",
      "      150    0.009    0.000    0.189    0.001 3675996204.py:9(run)\n",
      "        1    0.000    0.000    0.189    0.189 3873234461.py:19(run_benchmark)\n",
      "        1    0.000    0.000    0.189    0.189 <string>:1(<module>)\n",
      "        1    0.000    0.000    0.189    0.189 {built-in method builtins.exec}\n",
      "        1    0.000    0.000    0.000    0.000 {method 'disable' of '_lsprof.Profiler' objects}\n",
      "\n",
      "\n"
     ]
    }
   ],
   "source": [
    "cProfile.run('BuiltInMethodsDict.run_benchmark()', sort='ncalls')"
   ]
  },
  {
   "cell_type": "code",
   "execution_count": 12,
   "id": "647fa06e",
   "metadata": {},
   "outputs": [],
   "source": [
    "%load_ext line_profiler"
   ]
  },
  {
   "cell_type": "markdown",
   "id": "7df35ee6",
   "metadata": {},
   "source": [
    "`%lprun -f StandardDict.run StandardDict.run(print_output=False)`\n",
    "\n",
    "вызывает ошибку:\n",
    "\n",
    "`Are you sure you are running this program from the same directory\n",
    "that you ran the profiler from?\n",
    "Continuing without the function's contents.`"
   ]
  },
  {
   "cell_type": "markdown",
   "id": "f585144f",
   "metadata": {},
   "source": [
    "#### Быстрее работает функция стандартного добавления и обращения к питоновскому словарю (dict['key'] = 'value', print(dict['key'])). Функция добавления и чтения из словаря, использующая built-inовские методы .update() и .get(), работает медленнее, особенно из-за .update(), который сильно замедляет при многократном рекурсивном вызове"
   ]
  },
  {
   "cell_type": "code",
   "execution_count": 14,
   "id": "ee5bf321",
   "metadata": {},
   "outputs": [],
   "source": [
    "%load_ext memory_profiler"
   ]
  },
  {
   "cell_type": "code",
   "execution_count": 15,
   "id": "d297c034",
   "metadata": {},
   "outputs": [
    {
     "name": "stdout",
     "output_type": "stream",
     "text": [
      "Writing standard_dict.py\n"
     ]
    }
   ],
   "source": [
    "%%writefile standard_dict.py\n",
    "\n",
    "from memory_profiler import profile\n",
    "\n",
    "\n",
    "def standard_dict(arr):\n",
    "    new_dict = {}\n",
    "    for i in arr:\n",
    "        new_dict[i] = f'The value is {i}'\n",
    "    try:\n",
    "        print(new_dict['someting'])\n",
    "    except KeyError:\n",
    "        return None\n",
    "\n",
    "\n",
    "@profile\n",
    "def run_standard_dict():\n",
    "    array = []\n",
    "    for i in range(100, 1000000, 200):\n",
    "        array.append(i)\n",
    "        result = standard_dict(array)\n",
    "    return result\n",
    "\n",
    "\n",
    "if __name__ == '__main__':\n",
    "    run_standard_dict()"
   ]
  },
  {
   "cell_type": "code",
   "execution_count": 16,
   "id": "b1a07527",
   "metadata": {},
   "outputs": [
    {
     "name": "stdout",
     "output_type": "stream",
     "text": [
      "Filename: C:\\Users\\Мария\\PycharmProjects\\aleksandr_smolin_python_hw\\hw3_profiling\\standard_dict.py\n",
      "\n",
      "Line #    Mem usage    Increment  Occurrences   Line Contents\n",
      "=============================================================\n",
      "    15     41.7 MiB     41.7 MiB           1   @profile\n",
      "    16                                         def run_standard_dict():\n",
      "    17     41.7 MiB      0.0 MiB           1       array = []\n",
      "    18     42.4 MiB     -5.9 MiB        5001       for i in range(100, 1000000, 200):\n",
      "    19     42.4 MiB     -5.9 MiB        5000           array.append(i)\n",
      "    20     42.4 MiB     -5.1 MiB        5000           result = standard_dict(array)\n",
      "    21     42.4 MiB      0.0 MiB           1       return result\n",
      "\n",
      "\n"
     ]
    }
   ],
   "source": [
    "!python standard_dict.py"
   ]
  },
  {
   "cell_type": "code",
   "execution_count": 17,
   "id": "1466ac8c",
   "metadata": {},
   "outputs": [
    {
     "name": "stdout",
     "output_type": "stream",
     "text": [
      "Writing builtin_methods_dict.py\n"
     ]
    }
   ],
   "source": [
    "%%writefile builtin_methods_dict.py\n",
    "\n",
    "from memory_profiler import profile\n",
    "\n",
    "\n",
    "def builtin_methods_dict(arr):\n",
    "    new_dict = dict()\n",
    "    for i in arr:\n",
    "        new_dict.update({i: f'The value is {i}'})\n",
    "    return new_dict.get('someting', None)\n",
    "\n",
    "\n",
    "@profile\n",
    "def run_builtin_methods_dict():\n",
    "    array = []\n",
    "    for i in range(100, 1000000, 200):\n",
    "        array.append(i)\n",
    "        result = builtin_methods_dict(array)\n",
    "    return result\n",
    "\n",
    "\n",
    "if __name__ == '__main__':\n",
    "    run_builtin_methods_dict()"
   ]
  },
  {
   "cell_type": "code",
   "execution_count": 18,
   "id": "d6bb1bb8",
   "metadata": {},
   "outputs": [
    {
     "name": "stdout",
     "output_type": "stream",
     "text": [
      "Filename: C:\\Users\\Мария\\PycharmProjects\\aleksandr_smolin_python_hw\\hw3_profiling\\builtin_methods_dict.py\n",
      "\n",
      "Line #    Mem usage    Increment  Occurrences   Line Contents\n",
      "=============================================================\n",
      "    12     41.5 MiB     41.5 MiB           1   @profile\n",
      "    13                                         def run_builtin_methods_dict():\n",
      "    14     41.5 MiB      0.0 MiB           1       array = []\n",
      "    15     42.3 MiB     -6.4 MiB        5001       for i in range(100, 1000000, 200):\n",
      "    16     42.3 MiB     -6.4 MiB        5000           array.append(i)\n",
      "    17     42.3 MiB     -5.6 MiB        5000           result = builtin_methods_dict(array)\n",
      "    18     42.3 MiB      0.0 MiB           1       return result\n",
      "\n",
      "\n"
     ]
    }
   ],
   "source": [
    "!python builtin_methods_dict.py"
   ]
  },
  {
   "cell_type": "markdown",
   "id": "193a5d78",
   "metadata": {},
   "source": [
    "#### Я в железе не очень хорошо разбираюсь, поэтому не особо понял, что произошло. После вызова !python standard_dict.py сильно загудел вентилятор и комп начал грузить какой-то процесс питоновский, пришлось его вручную убивать. При этом, во второй раз, когда вызывал уже !python builtin_methods_dict.py все норм. Показывает вроде, что оперативку не сильно грузят обе функции, когда много итераций, чуть увеличивается, но что-то сильно загрузило комп."
   ]
  },
  {
   "cell_type": "code",
   "execution_count": null,
   "id": "dc5497f9",
   "metadata": {},
   "outputs": [],
   "source": []
  }
 ],
 "metadata": {
  "kernelspec": {
   "display_name": "Python 3 (ipykernel)",
   "language": "python",
   "name": "python3"
  },
  "language_info": {
   "codemirror_mode": {
    "name": "ipython",
    "version": 3
   },
   "file_extension": ".py",
   "mimetype": "text/x-python",
   "name": "python",
   "nbconvert_exporter": "python",
   "pygments_lexer": "ipython3",
   "version": "3.9.1"
  }
 },
 "nbformat": 4,
 "nbformat_minor": 5
}
