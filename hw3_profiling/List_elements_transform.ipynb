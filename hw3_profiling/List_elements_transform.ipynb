{
 "cells": [
  {
   "cell_type": "code",
   "execution_count": 23,
   "id": "89621169",
   "metadata": {},
   "outputs": [],
   "source": [
    "import cProfile\n",
    "from abc import ABC, abstractmethod\n",
    "\n",
    "import numpy as np"
   ]
  },
  {
   "cell_type": "code",
   "execution_count": 24,
   "id": "4117cad1",
   "metadata": {},
   "outputs": [],
   "source": [
    "my_arr = [22, 55, 77, 34, 65, 23, 76, 45, 323, 76]"
   ]
  },
  {
   "cell_type": "code",
   "execution_count": 25,
   "id": "74982196",
   "metadata": {},
   "outputs": [],
   "source": [
    "class AbstractIteration(ABC):\n",
    "    \"\"\"\n",
    "    Abstract class for list transformation\n",
    "    \"\"\"\n",
    "    @classmethod\n",
    "    @abstractmethod\n",
    "    def iteration(arr: list):\n",
    "        \"\"\"Method for list transformation\"\"\"\n",
    "        pass\n",
    "\n",
    "    @classmethod\n",
    "    @abstractmethod\n",
    "    def run(n: int = 50, print_output: bool = True):\n",
    "        \"\"\"Method to run the list transformation lots of times, appending a new number every time\"\"\"\n",
    "        pass\n",
    "\n",
    "    @classmethod\n",
    "    @abstractmethod\n",
    "    def test_iteration():\n",
    "        \"\"\"Method to test iteration()\"\"\"\n",
    "        pass\n",
    "\n",
    "    @classmethod\n",
    "    def run_benchmark(cls, n: int = 150):\n",
    "        for _ in range(n):\n",
    "            cls.run(print_output=False)"
   ]
  },
  {
   "cell_type": "code",
   "execution_count": 26,
   "id": "eaf2af04",
   "metadata": {},
   "outputs": [],
   "source": [
    "class ForloopIteration(AbstractIteration):\n",
    "    @classmethod\n",
    "    def iteration(cls, arr=my_arr):\n",
    "        new_list = []\n",
    "        for i in arr:\n",
    "            new_list.append(i ** 2)\n",
    "        return new_list\n",
    "\n",
    "    @classmethod\n",
    "    def run(cls, n: int = 50, print_output: bool = True):\n",
    "        for i in range(n):\n",
    "            new_list = ForloopIteration.iteration(arr=my_arr)\n",
    "        return new_list\n",
    "\n",
    "    @classmethod\n",
    "    def test_iteration(*args):\n",
    "        assert ForloopIteration.iteration() == [484, 3025, 5929, 1156, 4225, 529,\n",
    "                                                5776, 2025, 104329, 5776]"
   ]
  },
  {
   "cell_type": "code",
   "execution_count": 27,
   "id": "813ad2f8",
   "metadata": {},
   "outputs": [],
   "source": [
    "ForloopIteration.test_iteration()"
   ]
  },
  {
   "cell_type": "code",
   "execution_count": 28,
   "id": "d47efbd5",
   "metadata": {},
   "outputs": [],
   "source": [
    "class ListComprehensionIteration(AbstractIteration):\n",
    "    @classmethod\n",
    "    def iteration(cls, arr=my_arr):\n",
    "        new_list = [i ** 2 for i in arr]\n",
    "        return new_list\n",
    "\n",
    "    @classmethod\n",
    "    def run(cls, n: int = 50, print_output: bool = True):\n",
    "        for i in range(n):\n",
    "            new_list = ListComprehensionIteration.iteration(arr=my_arr)\n",
    "        return new_list\n",
    "\n",
    "    @classmethod\n",
    "    def test_iteration(*args):\n",
    "        assert ListComprehensionIteration.iteration() == [484, 3025, 5929, 1156, 4225, 529,\n",
    "                                                          5776, 2025, 104329, 5776]"
   ]
  },
  {
   "cell_type": "code",
   "execution_count": 29,
   "id": "e6974832",
   "metadata": {},
   "outputs": [],
   "source": [
    "ListComprehensionIteration.test_iteration()"
   ]
  },
  {
   "cell_type": "code",
   "execution_count": 30,
   "id": "1de0e4f1",
   "metadata": {},
   "outputs": [],
   "source": [
    "class NumpyIteration(AbstractIteration):\n",
    "    @classmethod\n",
    "    def iteration(cls, arr=my_arr):\n",
    "        new_arr = np.power(arr, 2).tolist()\n",
    "        return new_arr\n",
    "\n",
    "    @classmethod\n",
    "    def run(cls, n: int = 50, print_output: bool = True):\n",
    "        for i in range(n):\n",
    "            new_list = NumpyIteration.iteration(arr=my_arr)\n",
    "        return new_list\n",
    "\n",
    "    @classmethod\n",
    "    def test_iteration(*args):\n",
    "        assert NumpyIteration.iteration() == [484, 3025, 5929, 1156, 4225, 529,\n",
    "                                              5776, 2025, 104329, 5776]"
   ]
  },
  {
   "cell_type": "code",
   "execution_count": 31,
   "id": "cc587cb6",
   "metadata": {},
   "outputs": [],
   "source": [
    "NumpyIteration.test_iteration()"
   ]
  },
  {
   "cell_type": "code",
   "execution_count": 32,
   "id": "d5e36827",
   "metadata": {},
   "outputs": [
    {
     "name": "stdout",
     "output_type": "stream",
     "text": [
      "112 µs ± 970 ns per loop (mean ± std. dev. of 7 runs, 10,000 loops each)\n"
     ]
    }
   ],
   "source": [
    "%timeit ForloopIteration.run(print_output=False)"
   ]
  },
  {
   "cell_type": "code",
   "execution_count": 33,
   "id": "e2bfb343",
   "metadata": {},
   "outputs": [
    {
     "name": "stdout",
     "output_type": "stream",
     "text": [
      "107 µs ± 379 ns per loop (mean ± std. dev. of 7 runs, 10,000 loops each)\n"
     ]
    }
   ],
   "source": [
    "%timeit ListComprehensionIteration.run(print_output=False)"
   ]
  },
  {
   "cell_type": "code",
   "execution_count": 34,
   "id": "d9cdfb12",
   "metadata": {},
   "outputs": [
    {
     "name": "stdout",
     "output_type": "stream",
     "text": [
      "132 µs ± 942 ns per loop (mean ± std. dev. of 7 runs, 10,000 loops each)\n"
     ]
    }
   ],
   "source": [
    "%timeit NumpyIteration.run(print_output=False)"
   ]
  },
  {
   "cell_type": "code",
   "execution_count": 35,
   "id": "abca3736",
   "metadata": {},
   "outputs": [
    {
     "name": "stdout",
     "output_type": "stream",
     "text": [
      "         82654 function calls in 0.033 seconds\n",
      "\n",
      "   Ordered by: call count\n",
      "\n",
      "   ncalls  tottime  percall  cumtime  percall filename:lineno(function)\n",
      "    75000    0.006    0.000    0.006    0.000 {method 'append' of 'list' objects}\n",
      "     7500    0.024    0.000    0.030    0.000 3396998962.py:2(iteration)\n",
      "      150    0.003    0.000    0.033    0.000 3396998962.py:9(run)\n",
      "        1    0.000    0.000    0.033    0.033 3081082953.py:23(run_benchmark)\n",
      "        1    0.000    0.000    0.033    0.033 <string>:1(<module>)\n",
      "        1    0.000    0.000    0.033    0.033 {built-in method builtins.exec}\n",
      "        1    0.000    0.000    0.000    0.000 {method 'disable' of '_lsprof.Profiler' objects}\n",
      "\n",
      "\n"
     ]
    }
   ],
   "source": [
    "cProfile.run('ForloopIteration.run_benchmark()', sort='ncalls')"
   ]
  },
  {
   "cell_type": "code",
   "execution_count": 36,
   "id": "2a420223",
   "metadata": {},
   "outputs": [
    {
     "name": "stdout",
     "output_type": "stream",
     "text": [
      "         15154 function calls in 0.020 seconds\n",
      "\n",
      "   Ordered by: call count\n",
      "\n",
      "   ncalls  tottime  percall  cumtime  percall filename:lineno(function)\n",
      "     7500    0.002    0.000    0.018    0.000 3343606417.py:2(iteration)\n",
      "     7500    0.015    0.000    0.015    0.000 3343606417.py:4(<listcomp>)\n",
      "      150    0.003    0.000    0.020    0.000 3343606417.py:7(run)\n",
      "        1    0.000    0.000    0.020    0.020 3081082953.py:23(run_benchmark)\n",
      "        1    0.000    0.000    0.020    0.020 <string>:1(<module>)\n",
      "        1    0.000    0.000    0.020    0.020 {built-in method builtins.exec}\n",
      "        1    0.000    0.000    0.000    0.000 {method 'disable' of '_lsprof.Profiler' objects}\n",
      "\n",
      "\n"
     ]
    }
   ],
   "source": [
    "cProfile.run('ListComprehensionIteration.run_benchmark()', sort='ncalls')"
   ]
  },
  {
   "cell_type": "code",
   "execution_count": 37,
   "id": "b10dc055",
   "metadata": {},
   "outputs": [
    {
     "name": "stdout",
     "output_type": "stream",
     "text": [
      "         15154 function calls in 0.025 seconds\n",
      "\n",
      "   Ordered by: call count\n",
      "\n",
      "   ncalls  tottime  percall  cumtime  percall filename:lineno(function)\n",
      "     7500    0.021    0.000    0.023    0.000 714837308.py:2(iteration)\n",
      "     7500    0.002    0.000    0.002    0.000 {method 'tolist' of 'numpy.ndarray' objects}\n",
      "      150    0.003    0.000    0.025    0.000 714837308.py:7(run)\n",
      "        1    0.000    0.000    0.025    0.025 3081082953.py:23(run_benchmark)\n",
      "        1    0.000    0.000    0.025    0.025 <string>:1(<module>)\n",
      "        1    0.000    0.000    0.025    0.025 {built-in method builtins.exec}\n",
      "        1    0.000    0.000    0.000    0.000 {method 'disable' of '_lsprof.Profiler' objects}\n",
      "\n",
      "\n"
     ]
    }
   ],
   "source": [
    "cProfile.run('NumpyIteration.run_benchmark()', sort='ncalls')"
   ]
  },
  {
   "cell_type": "markdown",
   "id": "472d5f27",
   "metadata": {},
   "source": [
    "#### После переделывания результаты отличаются. Теперь я не добавлял в массив каждый раз по элементу, а много раз проводил итерацию по одному и тому же массиву. Итерация с помощью np.power() с преобразованием из np.array() в list теперь работает дольше всего. Первая по быстроте - list comprehension, в ней много времени тратится на саму listcomp. Вторая по быстроте - обычная итерация с помощью цикла for. Самая итерация и аппенд в новый список длятся суммарно относительно долго. Возможно, forloop, не требовавший бы регулярного append-а, выполнялся бы чуть быстрее, чем list comprehension."
   ]
  },
  {
   "cell_type": "code",
   "execution_count": 38,
   "id": "cac49981",
   "metadata": {},
   "outputs": [
    {
     "name": "stdout",
     "output_type": "stream",
     "text": [
      "The memory_profiler extension is already loaded. To reload it, use:\n",
      "  %reload_ext memory_profiler\n"
     ]
    }
   ],
   "source": [
    "%load_ext memory_profiler"
   ]
  },
  {
   "cell_type": "code",
   "execution_count": 39,
   "id": "a2b7c4c2",
   "metadata": {},
   "outputs": [
    {
     "name": "stdout",
     "output_type": "stream",
     "text": [
      "Overwriting forloop_iteration.py\n"
     ]
    }
   ],
   "source": [
    "%%writefile forloop_iteration.py\n",
    "\n",
    "from memory_profiler import profile\n",
    "\n",
    "my_arr = [22, 55, 77, 34, 65, 23, 76, 45, 323, 76]\n",
    "\n",
    "\n",
    "def forloop_iteration(arr):\n",
    "    new_list = []\n",
    "    for i in arr:\n",
    "        new_list.append(i ** 2)\n",
    "    return new_list\n",
    "\n",
    "\n",
    "@profile\n",
    "def run_forloop_iteration():\n",
    "    for i in range(5000, 20000, 100):\n",
    "        result = forloop_iteration(arr=my_arr)\n",
    "    return result\n",
    "\n",
    "\n",
    "if __name__ == '__main__':\n",
    "    run_forloop_iteration()"
   ]
  },
  {
   "cell_type": "code",
   "execution_count": 40,
   "id": "7b3347e2",
   "metadata": {},
   "outputs": [
    {
     "name": "stdout",
     "output_type": "stream",
     "text": [
      "Filename: C:\\Users\\Мария\\PycharmProjects\\aleksandr_smolin_python_hw\\hw3_profiling\\forloop_iteration.py\n",
      "\n",
      "Line #    Mem usage    Increment  Occurrences   Line Contents\n",
      "=============================================================\n",
      "    14     41.4 MiB     41.4 MiB           1   @profile\n",
      "    15                                         def run_forloop_iteration():\n",
      "    16     41.4 MiB      0.0 MiB         151       for i in range(5000, 20000, 100):\n",
      "    17     41.4 MiB      0.0 MiB         150           result = forloop_iteration(arr=my_arr)\n",
      "    18     41.4 MiB      0.0 MiB           1       return result\n",
      "\n",
      "\n"
     ]
    }
   ],
   "source": [
    "!python forloop_iteration.py"
   ]
  },
  {
   "cell_type": "code",
   "execution_count": 41,
   "id": "cc0f56b2",
   "metadata": {},
   "outputs": [
    {
     "name": "stdout",
     "output_type": "stream",
     "text": [
      "Overwriting list_comprehension_iteration.py\n"
     ]
    }
   ],
   "source": [
    "%%writefile list_comprehension_iteration.py\n",
    "\n",
    "from memory_profiler import profile\n",
    "\n",
    "my_arr = [22, 55, 77, 34, 65, 23, 76, 45, 323, 76]\n",
    "\n",
    "\n",
    "def list_comprehension_iteration(arr):\n",
    "    new_list = [i ** 2 for i in arr]\n",
    "    return new_list\n",
    "\n",
    "\n",
    "@profile\n",
    "def run_list_comprehension_iteration():\n",
    "    for i in range(5000, 20000, 100):\n",
    "        result = list_comprehension_iteration(arr=my_arr)\n",
    "    return result\n",
    "\n",
    "\n",
    "if __name__ == '__main__':\n",
    "    run_list_comprehension_iteration()"
   ]
  },
  {
   "cell_type": "code",
   "execution_count": 42,
   "id": "a5b97c9b",
   "metadata": {},
   "outputs": [
    {
     "name": "stdout",
     "output_type": "stream",
     "text": [
      "Filename: C:\\Users\\Мария\\PycharmProjects\\aleksandr_smolin_python_hw\\hw3_profiling\\list_comprehension_iteration.py\n",
      "\n",
      "Line #    Mem usage    Increment  Occurrences   Line Contents\n",
      "=============================================================\n",
      "    12     41.5 MiB     41.5 MiB           1   @profile\n",
      "    13                                         def run_list_comprehension_iteration():\n",
      "    14     41.5 MiB      0.0 MiB         151       for i in range(5000, 20000, 100):\n",
      "    15     41.5 MiB      0.0 MiB         150           result = list_comprehension_iteration(arr=my_arr)\n",
      "    16     41.5 MiB      0.0 MiB           1       return result\n",
      "\n",
      "\n"
     ]
    }
   ],
   "source": [
    "!python list_comprehension_iteration.py"
   ]
  },
  {
   "cell_type": "code",
   "execution_count": 43,
   "id": "b8b67373",
   "metadata": {},
   "outputs": [
    {
     "name": "stdout",
     "output_type": "stream",
     "text": [
      "Overwriting numpy_iteration.py\n"
     ]
    }
   ],
   "source": [
    "%%writefile numpy_iteration.py\n",
    "\n",
    "from memory_profiler import profile\n",
    "import numpy as np\n",
    "\n",
    "my_arr = [22, 55, 77, 34, 65, 23, 76, 45, 323, 76]\n",
    "\n",
    "\n",
    "def numpy_iteration(arr):\n",
    "    new_arr = np.power(arr, 2).tolist()\n",
    "    return new_arr\n",
    "\n",
    "\n",
    "@profile\n",
    "def run_numpy_iteration():\n",
    "    for i in range(5000, 20000, 100):\n",
    "        result = numpy_iteration(arr=my_arr)\n",
    "    return result\n",
    "\n",
    "\n",
    "if __name__ == '__main__':\n",
    "    run_numpy_iteration()"
   ]
  },
  {
   "cell_type": "code",
   "execution_count": 44,
   "id": "8c1e1362",
   "metadata": {},
   "outputs": [
    {
     "name": "stdout",
     "output_type": "stream",
     "text": [
      "Filename: C:\\Users\\Мария\\PycharmProjects\\aleksandr_smolin_python_hw\\hw3_profiling\\numpy_iteration.py\n",
      "\n",
      "Line #    Mem usage    Increment  Occurrences   Line Contents\n",
      "=============================================================\n",
      "    13     50.9 MiB     50.9 MiB           1   @profile\n",
      "    14                                         def run_numpy_iteration():\n",
      "    15     50.9 MiB      0.0 MiB         151       for i in range(5000, 20000, 100):\n",
      "    16     50.9 MiB      0.0 MiB         150           result = numpy_iteration(arr=my_arr)\n",
      "    17     50.9 MiB      0.0 MiB           1       return result\n",
      "\n",
      "\n"
     ]
    }
   ],
   "source": [
    "!python numpy_iteration.py"
   ]
  },
  {
   "cell_type": "markdown",
   "id": "9ef150d6",
   "metadata": {},
   "source": [
    "#### При увеличении массива каждый раз на один элемент объем  расходуемой оперативной памяти не возрастает, примечательно, что у forloop и list comp он одинаковый, и он меньше, чем у np.power. Похоже, вне зависимости от длины массива, при итерации расход памяти постоянный."
   ]
  },
  {
   "cell_type": "code",
   "execution_count": null,
   "id": "61b466e4",
   "metadata": {},
   "outputs": [],
   "source": []
  }
 ],
 "metadata": {
  "kernelspec": {
   "display_name": "Python 3 (ipykernel)",
   "language": "python",
   "name": "python3"
  },
  "language_info": {
   "codemirror_mode": {
    "name": "ipython",
    "version": 3
   },
   "file_extension": ".py",
   "mimetype": "text/x-python",
   "name": "python",
   "nbconvert_exporter": "python",
   "pygments_lexer": "ipython3",
   "version": "3.9.1"
  }
 },
 "nbformat": 4,
 "nbformat_minor": 5
}
