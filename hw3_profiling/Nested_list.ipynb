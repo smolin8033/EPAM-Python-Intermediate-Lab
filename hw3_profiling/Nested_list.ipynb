{
 "cells": [
  {
   "cell_type": "code",
   "execution_count": 17,
   "id": "1294e6be",
   "metadata": {},
   "outputs": [],
   "source": [
    "import cProfile\n",
    "from abc import ABC, abstractmethod"
   ]
  },
  {
   "cell_type": "code",
   "execution_count": 18,
   "id": "052d1d78",
   "metadata": {},
   "outputs": [],
   "source": [
    "my_arr = [4, 5, 6, [4, 7], 7, 4, [2, 8], 7, [4, 7, [3, 8, 5]], 9, 7, 8,\n",
    "          [4, 9, [3, 9, [4, 8, [3, 6, 7, 3], 3], 5], 4], 9]"
   ]
  },
  {
   "cell_type": "code",
   "execution_count": 19,
   "id": "feb55189",
   "metadata": {},
   "outputs": [],
   "source": [
    "class AbstractFlatten(ABC):\n",
    "    \"\"\"\n",
    "    Abstract class for sorting\n",
    "    \"\"\"\n",
    "    @classmethod\n",
    "    @abstractmethod\n",
    "    def flatten(arr: list):\n",
    "        \"\"\"Method to unpack/flatten the nested array\"\"\"\n",
    "        pass\n",
    "\n",
    "    @classmethod\n",
    "    @abstractmethod\n",
    "    def run(n: int = 50, print_output: bool = True):\n",
    "        \"\"\"Method to run flatten multiple times\"\"\"\n",
    "        pass\n",
    "\n",
    "    @classmethod\n",
    "    @abstractmethod\n",
    "    def test_flatten():\n",
    "        \"\"\"Method to test flatten()\"\"\"\n",
    "        pass\n",
    "\n",
    "    @classmethod\n",
    "    def run_benchmark(cls, n: int = 50):\n",
    "        for _ in range(n):\n",
    "            cls.run(print_output=False)"
   ]
  },
  {
   "cell_type": "code",
   "execution_count": 20,
   "id": "5e9179a0",
   "metadata": {},
   "outputs": [],
   "source": [
    "class NonRecursiveFlatten(AbstractFlatten):\n",
    "    @classmethod\n",
    "    def flatten(cls, arr=my_arr):\n",
    "        nested = True\n",
    "        while nested:\n",
    "            new = []\n",
    "            nested = False\n",
    "            for i in arr:\n",
    "                if isinstance(i, list):\n",
    "                    new.extend(i)\n",
    "                    nested = True\n",
    "                else:\n",
    "                    new.append(i)\n",
    "            arr = new\n",
    "        return arr\n",
    "\n",
    "    @classmethod\n",
    "    def run(cls, n: int = 50, print_output: bool = True):\n",
    "        for i in range(n):\n",
    "            new_list = NonRecursiveFlatten.flatten(arr=my_arr)\n",
    "        return new_list\n",
    "\n",
    "    @classmethod\n",
    "    def test_flatten(*args):\n",
    "        assert NonRecursiveFlatten.flatten() == [4, 5, 6, 4, 7, 7, 4, 2, 8, 7, 4, 7, 3, 8,\n",
    "                                                 5, 9, 7, 8, 4, 9, 3, 9, 4, 8, 3, 6, 7, 3, 3, 5, 4, 9]"
   ]
  },
  {
   "cell_type": "code",
   "execution_count": 21,
   "id": "dc5af8d4",
   "metadata": {},
   "outputs": [],
   "source": [
    "NonRecursiveFlatten.test_flatten()"
   ]
  },
  {
   "cell_type": "code",
   "execution_count": 22,
   "id": "7133e966",
   "metadata": {},
   "outputs": [],
   "source": [
    "class RecursiveFlatten(AbstractFlatten):\n",
    "    @classmethod\n",
    "    def flatten(cls, arr=my_arr):\n",
    "        new_list = []\n",
    "        for i in arr:\n",
    "            if isinstance(i, list):\n",
    "                new_list.extend(RecursiveFlatten.flatten(i))\n",
    "            else:\n",
    "                new_list.append(i)\n",
    "        return new_list\n",
    "\n",
    "    @classmethod\n",
    "    def run(cls, n: int = 50, print_output: bool = True):\n",
    "        for i in range(n):\n",
    "            new_list = RecursiveFlatten.flatten(arr=my_arr)\n",
    "        return new_list\n",
    "\n",
    "    @classmethod\n",
    "    def test_flatten(*args):\n",
    "        assert RecursiveFlatten.flatten() == [4, 5, 6, 4, 7, 7, 4, 2, 8, 7, 4, 7, 3, 8,\n",
    "                                              5, 9, 7, 8, 4, 9, 3, 9, 4, 8, 3, 6, 7, 3, 3, 5, 4, 9]"
   ]
  },
  {
   "cell_type": "code",
   "execution_count": 23,
   "id": "f446826f",
   "metadata": {},
   "outputs": [],
   "source": [
    "RecursiveFlatten.test_flatten()"
   ]
  },
  {
   "cell_type": "code",
   "execution_count": 24,
   "id": "2c36673d",
   "metadata": {},
   "outputs": [
    {
     "name": "stdout",
     "output_type": "stream",
     "text": [
      "478 µs ± 4.61 µs per loop (mean ± std. dev. of 7 runs, 1,000 loops each)\n"
     ]
    }
   ],
   "source": [
    "%timeit NonRecursiveFlatten.run(print_output=False)"
   ]
  },
  {
   "cell_type": "code",
   "execution_count": 25,
   "id": "9096c318",
   "metadata": {},
   "outputs": [
    {
     "name": "stdout",
     "output_type": "stream",
     "text": [
      "224 µs ± 2.5 µs per loop (mean ± std. dev. of 7 runs, 1,000 loops each)\n"
     ]
    }
   ],
   "source": [
    "%timeit RecursiveFlatten.run(print_output=False)"
   ]
  },
  {
   "cell_type": "code",
   "execution_count": 26,
   "id": "59c5130d",
   "metadata": {},
   "outputs": [
    {
     "name": "stdout",
     "output_type": "stream",
     "text": [
      "         612554 function calls in 0.119 seconds\n",
      "\n",
      "   Ordered by: call count\n",
      "\n",
      "   ncalls  tottime  percall  cumtime  percall filename:lineno(function)\n",
      "   305000    0.024    0.000    0.024    0.000 {built-in method builtins.isinstance}\n",
      "   285000    0.021    0.000    0.021    0.000 {method 'append' of 'list' objects}\n",
      "    20000    0.002    0.000    0.002    0.000 {method 'extend' of 'list' objects}\n",
      "     2500    0.071    0.000    0.118    0.000 1877689050.py:2(flatten)\n",
      "       50    0.001    0.000    0.119    0.002 1877689050.py:17(run)\n",
      "        1    0.000    0.000    0.119    0.119 803643361.py:23(run_benchmark)\n",
      "        1    0.000    0.000    0.119    0.119 <string>:1(<module>)\n",
      "        1    0.000    0.000    0.119    0.119 {built-in method builtins.exec}\n",
      "        1    0.000    0.000    0.000    0.000 {method 'disable' of '_lsprof.Profiler' objects}\n",
      "\n",
      "\n"
     ]
    }
   ],
   "source": [
    "cProfile.run('NonRecursiveFlatten.run_benchmark()', sort='ncalls')"
   ]
  },
  {
   "cell_type": "code",
   "execution_count": 27,
   "id": "72f72834",
   "metadata": {},
   "outputs": [
    {
     "name": "stdout",
     "output_type": "stream",
     "text": [
      "         222554 function calls (202554 primitive calls) in 0.049 seconds\n",
      "\n",
      "   Ordered by: call count\n",
      "\n",
      "   ncalls  tottime  percall  cumtime  percall filename:lineno(function)\n",
      "   100000    0.008    0.000    0.008    0.000 {built-in method builtins.isinstance}\n",
      "    80000    0.006    0.000    0.006    0.000 {method 'append' of 'list' objects}\n",
      "22500/2500    0.032    0.000    0.048    0.000 1557871206.py:2(flatten)\n",
      "    20000    0.002    0.000    0.002    0.000 {method 'extend' of 'list' objects}\n",
      "       50    0.001    0.000    0.049    0.001 1557871206.py:12(run)\n",
      "        1    0.000    0.000    0.049    0.049 803643361.py:23(run_benchmark)\n",
      "        1    0.000    0.000    0.049    0.049 <string>:1(<module>)\n",
      "        1    0.000    0.000    0.049    0.049 {built-in method builtins.exec}\n",
      "        1    0.000    0.000    0.000    0.000 {method 'disable' of '_lsprof.Profiler' objects}\n",
      "\n",
      "\n"
     ]
    }
   ],
   "source": [
    "cProfile.run('RecursiveFlatten.run_benchmark()', sort='ncalls')"
   ]
  },
  {
   "cell_type": "markdown",
   "id": "73fb5ded",
   "metadata": {},
   "source": [
    "#### Здесь без lprun, который у меня не работает, тяжело определить, скорее всего рекурсивная функция работает быстрее как раз из-за многократного рекурсивного вызова, плюс в ней .append меньше раз вызывается, .isinstance тоже меньше раз вызывается. В целом, думаю, чем больше количество итераций с добавлением массива с глубиной 5 вложений, как я добавлял перед исправлениями в методе run(), тем больше лишних проходов нерекурсивной функции по этим вышеуказанным методам, что будет все сильнее замедлять ее по отношению к рекурсивной"
   ]
  },
  {
   "cell_type": "code",
   "execution_count": 28,
   "id": "0ea180b1",
   "metadata": {},
   "outputs": [
    {
     "name": "stdout",
     "output_type": "stream",
     "text": [
      "The memory_profiler extension is already loaded. To reload it, use:\n",
      "  %reload_ext memory_profiler\n"
     ]
    }
   ],
   "source": [
    "%load_ext memory_profiler"
   ]
  },
  {
   "cell_type": "code",
   "execution_count": 29,
   "id": "bc79e618",
   "metadata": {},
   "outputs": [
    {
     "name": "stdout",
     "output_type": "stream",
     "text": [
      "Overwriting run_nonrecursive_flatten.py\n"
     ]
    }
   ],
   "source": [
    "%%writefile run_nonrecursive_flatten.py\n",
    "\n",
    "from memory_profiler import profile\n",
    "\n",
    "my_arr = [4, 5, 6, [4, 7], 7, 4, [2, 8], 7, [4, 7, [3, 8, 5]], 9, 7, 8,\n",
    "          [4, 9, [3, 9, [4, 8, [3, 6, 7, 3], 3], 5], 4], 9]\n",
    "\n",
    "\n",
    "def nonrecursive_flatten(arr):\n",
    "    nested = True\n",
    "    while nested:\n",
    "        new = []\n",
    "        nested = False\n",
    "        for i in arr:\n",
    "            if isinstance(i, list):\n",
    "                new.extend(i)\n",
    "                nested = True\n",
    "            else:\n",
    "                new.append(i)\n",
    "        arr = new\n",
    "    return arr\n",
    "\n",
    "\n",
    "@profile\n",
    "def run_nonrecursive_flatten():\n",
    "    for i in range(1000):\n",
    "        result = nonrecursive_flatten(arr=my_arr)\n",
    "    return result\n",
    "\n",
    "\n",
    "if __name__ == '__main__':\n",
    "    run_nonrecursive_flatten()"
   ]
  },
  {
   "cell_type": "code",
   "execution_count": 30,
   "id": "9740d95d",
   "metadata": {},
   "outputs": [
    {
     "name": "stdout",
     "output_type": "stream",
     "text": [
      "Filename: C:\\Users\\Мария\\PycharmProjects\\aleksandr_smolin_python_hw\\hw3_profiling\\run_nonrecursive_flatten.py\n",
      "\n",
      "Line #    Mem usage    Increment  Occurrences   Line Contents\n",
      "=============================================================\n",
      "    23     41.4 MiB     41.4 MiB           1   @profile\n",
      "    24                                         def run_nonrecursive_flatten():\n",
      "    25     41.4 MiB      0.0 MiB        1001       for i in range(1000):\n",
      "    26     41.4 MiB      0.0 MiB        1000           result = nonrecursive_flatten(arr=my_arr)\n",
      "    27     41.4 MiB      0.0 MiB           1       return result\n",
      "\n",
      "\n"
     ]
    }
   ],
   "source": [
    "!python run_nonrecursive_flatten.py"
   ]
  },
  {
   "cell_type": "code",
   "execution_count": 31,
   "id": "fa82aa94",
   "metadata": {},
   "outputs": [
    {
     "name": "stdout",
     "output_type": "stream",
     "text": [
      "Overwriting run_recursive_flatten.py\n"
     ]
    }
   ],
   "source": [
    "%%writefile run_recursive_flatten.py\n",
    "\n",
    "from memory_profiler import profile\n",
    "\n",
    "my_arr = [4, 5, 6, [4, 7], 7, 4, [2, 8], 7, [4, 7, [3, 8, 5]], 9, 7, 8,\n",
    "          [4, 9, [3, 9, [4, 8, [3, 6, 7, 3], 3], 5], 4], 9]\n",
    "\n",
    "\n",
    "def recursive_flatten(arr):\n",
    "    new_list = []\n",
    "    for i in arr:\n",
    "        if isinstance(i, list):\n",
    "            new_list.extend(recursive_flatten(i))\n",
    "        else:\n",
    "            new_list.append(i)\n",
    "    return new_list\n",
    "\n",
    "\n",
    "@profile\n",
    "def run_recursive_flatten():\n",
    "    for i in range(1000):\n",
    "        result = recursive_flatten(arr=my_arr)\n",
    "    return result\n",
    "\n",
    "\n",
    "if __name__ == '__main__':\n",
    "    run_recursive_flatten()"
   ]
  },
  {
   "cell_type": "code",
   "execution_count": 32,
   "id": "b6200e28",
   "metadata": {},
   "outputs": [
    {
     "name": "stdout",
     "output_type": "stream",
     "text": [
      "Filename: C:\\Users\\Мария\\PycharmProjects\\aleksandr_smolin_python_hw\\hw3_profiling\\run_recursive_flatten.py\n",
      "\n",
      "Line #    Mem usage    Increment  Occurrences   Line Contents\n",
      "=============================================================\n",
      "    18     41.6 MiB     41.6 MiB           1   @profile\n",
      "    19                                         def run_recursive_flatten():\n",
      "    20     41.6 MiB      0.0 MiB        1001       for i in range(1000):\n",
      "    21     41.6 MiB      0.0 MiB        1000           result = recursive_flatten(arr=my_arr)\n",
      "    22     41.6 MiB      0.0 MiB           1       return result\n",
      "\n",
      "\n"
     ]
    }
   ],
   "source": [
    "!python run_recursive_flatten.py"
   ]
  },
  {
   "cell_type": "markdown",
   "id": "79c20f03",
   "metadata": {},
   "source": [
    "#### Не прослеживаются изменения в потреблении памяти в большом диапазоне"
   ]
  },
  {
   "cell_type": "code",
   "execution_count": null,
   "id": "88636679",
   "metadata": {},
   "outputs": [],
   "source": []
  }
 ],
 "metadata": {
  "kernelspec": {
   "display_name": "Python 3 (ipykernel)",
   "language": "python",
   "name": "python3"
  },
  "language_info": {
   "codemirror_mode": {
    "name": "ipython",
    "version": 3
   },
   "file_extension": ".py",
   "mimetype": "text/x-python",
   "name": "python",
   "nbconvert_exporter": "python",
   "pygments_lexer": "ipython3",
   "version": "3.9.1"
  }
 },
 "nbformat": 4,
 "nbformat_minor": 5
}
