{
 "cells": [
  {
   "cell_type": "code",
   "execution_count": 45,
   "id": "f843f361",
   "metadata": {},
   "outputs": [],
   "source": [
    "import cProfile\n",
    "from abc import ABC, abstractmethod"
   ]
  },
  {
   "cell_type": "code",
   "execution_count": 46,
   "id": "92df1d02",
   "metadata": {},
   "outputs": [],
   "source": [
    "my_arr = [5, 9, 3, 6, 0, 1, 7, 2, 8, 4]"
   ]
  },
  {
   "cell_type": "code",
   "execution_count": 47,
   "id": "fd3cebda",
   "metadata": {},
   "outputs": [],
   "source": [
    "class AbstractSorting(ABC):\n",
    "    \"\"\"\n",
    "    Abstract class for sorting\n",
    "    \"\"\"\n",
    "    @classmethod\n",
    "    @abstractmethod\n",
    "    def sorting(arr: list):\n",
    "        \"\"\"Method to sort the array\"\"\"\n",
    "        pass\n",
    "\n",
    "    @classmethod\n",
    "    @abstractmethod\n",
    "    def run(n: int = 50, print_output: bool = True):\n",
    "        \"\"\"Method to run the sorting lots of times, appending a new number every time\"\"\"\n",
    "        pass\n",
    "\n",
    "    @classmethod\n",
    "    @abstractmethod\n",
    "    def test_sorting():\n",
    "        \"\"\"Method to test sorting()\"\"\"\n",
    "        pass\n",
    "\n",
    "    @classmethod\n",
    "    def run_benchmark(cls, n: int = 50):\n",
    "        for _ in range(n):\n",
    "            cls.run(print_output=False)"
   ]
  },
  {
   "cell_type": "code",
   "execution_count": 48,
   "id": "88a4c29f",
   "metadata": {},
   "outputs": [],
   "source": [
    "class QuickSorting(AbstractSorting):\n",
    "    @classmethod\n",
    "    def sorting(cls, arr=my_arr):\n",
    "        if len(arr) < 2:\n",
    "            return arr\n",
    "        else:\n",
    "            base = arr[0]\n",
    "            less = [i for i in arr[1:] if i <= base]\n",
    "            more = [i for i in arr[1:] if i > base]\n",
    "            return QuickSorting.sorting(less) + [base] + QuickSorting.sorting(more)\n",
    "\n",
    "    @classmethod\n",
    "    def run(cls, n: int = 50, print_output: bool = True):\n",
    "        for i in range(n):\n",
    "            new_list = QuickSorting.sorting(arr=my_arr)\n",
    "        return new_list\n",
    "\n",
    "    @classmethod\n",
    "    def test_sorting(*args):\n",
    "        assert QuickSorting.sorting() == [0, 1, 2, 3, 4, 5, 6, 7, 8, 9]"
   ]
  },
  {
   "cell_type": "code",
   "execution_count": 49,
   "id": "a5354b67",
   "metadata": {},
   "outputs": [],
   "source": [
    "QuickSorting.test_sorting()"
   ]
  },
  {
   "cell_type": "code",
   "execution_count": 50,
   "id": "eff01b24",
   "metadata": {},
   "outputs": [],
   "source": [
    "class BubbleSorting(AbstractSorting):\n",
    "    @classmethod\n",
    "    def sorting(cls, arr=my_arr):\n",
    "        n = len(arr)\n",
    "        for i in range(n-1):\n",
    "            for j in range(0, n-i-1):\n",
    "                if arr[j] > arr[j+1]:\n",
    "                    arr[j], arr[j+1] = arr[j+1], arr[j]\n",
    "        return arr\n",
    "\n",
    "    @classmethod\n",
    "    def run(cls, n: int = 50, print_output: bool = True):\n",
    "        for i in range(n):\n",
    "            new_list = BubbleSorting.sorting(arr=my_arr)\n",
    "        return new_list\n",
    "\n",
    "    @classmethod\n",
    "    def test_sorting(*args):\n",
    "        assert BubbleSorting.sorting() == [0, 1, 2, 3, 4, 5, 6, 7, 8, 9]"
   ]
  },
  {
   "cell_type": "code",
   "execution_count": 51,
   "id": "65e628e8",
   "metadata": {},
   "outputs": [],
   "source": [
    "BubbleSorting.test_sorting()"
   ]
  },
  {
   "cell_type": "code",
   "execution_count": 52,
   "id": "154abdcf",
   "metadata": {},
   "outputs": [],
   "source": [
    "class BuiltInSorting(AbstractSorting):\n",
    "    @classmethod\n",
    "    def sorting(cls, arr=my_arr):\n",
    "        arr.sort()\n",
    "        return arr\n",
    "\n",
    "    @classmethod\n",
    "    def run(cls, n: int = 50, print_output: bool = True):\n",
    "        for i in range(n):\n",
    "            new_list = BuiltInSorting.sorting(arr=my_arr)\n",
    "        return new_list\n",
    "\n",
    "    @classmethod\n",
    "    def test_sorting(*args):\n",
    "        assert BuiltInSorting.sorting() == [0, 1, 2, 3, 4, 5, 6, 7, 8, 9]"
   ]
  },
  {
   "cell_type": "code",
   "execution_count": 53,
   "id": "8ba295cf",
   "metadata": {},
   "outputs": [],
   "source": [
    "BuiltInSorting.test_sorting()"
   ]
  },
  {
   "cell_type": "code",
   "execution_count": 54,
   "id": "797fae42",
   "metadata": {},
   "outputs": [
    {
     "name": "stdout",
     "output_type": "stream",
     "text": [
      "527 µs ± 5.1 µs per loop (mean ± std. dev. of 7 runs, 1,000 loops each)\n"
     ]
    }
   ],
   "source": [
    "%timeit QuickSorting.run(print_output=False)"
   ]
  },
  {
   "cell_type": "code",
   "execution_count": 55,
   "id": "b4c73f20",
   "metadata": {},
   "outputs": [
    {
     "name": "stdout",
     "output_type": "stream",
     "text": [
      "191 µs ± 977 ns per loop (mean ± std. dev. of 7 runs, 10,000 loops each)\n"
     ]
    }
   ],
   "source": [
    "%timeit BubbleSorting.run(print_output=False)"
   ]
  },
  {
   "cell_type": "code",
   "execution_count": 56,
   "id": "43b1879c",
   "metadata": {},
   "outputs": [
    {
     "name": "stdout",
     "output_type": "stream",
     "text": [
      "9.77 µs ± 173 ns per loop (mean ± std. dev. of 7 runs, 100,000 loops each)\n"
     ]
    }
   ],
   "source": [
    "%timeit BuiltInSorting.run(print_output=False)"
   ]
  },
  {
   "cell_type": "code",
   "execution_count": 57,
   "id": "786bcf85",
   "metadata": {},
   "outputs": [
    {
     "name": "stdout",
     "output_type": "stream",
     "text": [
      "         140054 function calls (95054 primitive calls) in 0.056 seconds\n",
      "\n",
      "   Ordered by: call count\n",
      "\n",
      "   ncalls  tottime  percall  cumtime  percall filename:lineno(function)\n",
      "47500/2500    0.040    0.000    0.055    0.000 1247461099.py:2(sorting)\n",
      "    47500    0.004    0.000    0.004    0.000 {built-in method builtins.len}\n",
      "    22500    0.005    0.000    0.005    0.000 1247461099.py:8(<listcomp>)\n",
      "    22500    0.006    0.000    0.006    0.000 1247461099.py:9(<listcomp>)\n",
      "       50    0.001    0.000    0.056    0.001 1247461099.py:12(run)\n",
      "        1    0.000    0.000    0.056    0.056 963093072.py:23(run_benchmark)\n",
      "        1    0.000    0.000    0.056    0.056 <string>:1(<module>)\n",
      "        1    0.000    0.000    0.056    0.056 {built-in method builtins.exec}\n",
      "        1    0.000    0.000    0.000    0.000 {method 'disable' of '_lsprof.Profiler' objects}\n",
      "\n",
      "\n"
     ]
    }
   ],
   "source": [
    "cProfile.run('QuickSorting.run_benchmark()', sort='ncalls')"
   ]
  },
  {
   "cell_type": "code",
   "execution_count": 58,
   "id": "488738d2",
   "metadata": {},
   "outputs": [
    {
     "name": "stdout",
     "output_type": "stream",
     "text": [
      "         5054 function calls in 0.011 seconds\n",
      "\n",
      "   Ordered by: call count\n",
      "\n",
      "   ncalls  tottime  percall  cumtime  percall filename:lineno(function)\n",
      "     2500    0.010    0.000    0.011    0.000 1818090702.py:2(sorting)\n",
      "     2500    0.000    0.000    0.000    0.000 {built-in method builtins.len}\n",
      "       50    0.001    0.000    0.011    0.000 1818090702.py:11(run)\n",
      "        1    0.000    0.000    0.011    0.011 963093072.py:23(run_benchmark)\n",
      "        1    0.000    0.000    0.011    0.011 <string>:1(<module>)\n",
      "        1    0.000    0.000    0.011    0.011 {built-in method builtins.exec}\n",
      "        1    0.000    0.000    0.000    0.000 {method 'disable' of '_lsprof.Profiler' objects}\n",
      "\n",
      "\n"
     ]
    }
   ],
   "source": [
    "cProfile.run('BubbleSorting.run_benchmark()', sort='ncalls')"
   ]
  },
  {
   "cell_type": "code",
   "execution_count": 59,
   "id": "c29da7f2",
   "metadata": {},
   "outputs": [
    {
     "name": "stdout",
     "output_type": "stream",
     "text": [
      "         5054 function calls in 0.003 seconds\n",
      "\n",
      "   Ordered by: call count\n",
      "\n",
      "   ncalls  tottime  percall  cumtime  percall filename:lineno(function)\n",
      "     2500    0.001    0.000    0.002    0.000 3461420796.py:2(sorting)\n",
      "     2500    0.001    0.000    0.001    0.000 {method 'sort' of 'list' objects}\n",
      "       50    0.001    0.000    0.003    0.000 3461420796.py:7(run)\n",
      "        1    0.000    0.000    0.003    0.003 <string>:1(<module>)\n",
      "        1    0.000    0.000    0.003    0.003 963093072.py:23(run_benchmark)\n",
      "        1    0.000    0.000    0.003    0.003 {built-in method builtins.exec}\n",
      "        1    0.000    0.000    0.000    0.000 {method 'disable' of '_lsprof.Profiler' objects}\n",
      "\n",
      "\n"
     ]
    }
   ],
   "source": [
    "cProfile.run('BuiltInSorting.run_benchmark()', sort='ncalls')"
   ]
  },
  {
   "cell_type": "markdown",
   "id": "49e1d375",
   "metadata": {},
   "source": [
    "#### Быстрее всего работает билтиновский метод .sort(). Вероятно, он выполняется за nlog2n, согласно открытой информации и базируется на особом алгоритме под названием Timsort. С остальными двумя сложнее: похоже, что быстрая сортировка, основанная на рекурсивном вызове, быстрее сортировки пузырьком. В целом разные вызовы демонстрируют разные результаты. При этом, насколько я понял, быстрая в питоне выполняется относительно долго.\n",
    "#### Среднее время быстрой - O(n log n)\n",
    "#### Среднее время пузырьковой - O(n^{2})"
   ]
  },
  {
   "cell_type": "code",
   "execution_count": 60,
   "id": "71dbdfd5",
   "metadata": {},
   "outputs": [
    {
     "name": "stdout",
     "output_type": "stream",
     "text": [
      "The memory_profiler extension is already loaded. To reload it, use:\n",
      "  %reload_ext memory_profiler\n"
     ]
    }
   ],
   "source": [
    "%load_ext memory_profiler"
   ]
  },
  {
   "cell_type": "code",
   "execution_count": 67,
   "id": "60956356",
   "metadata": {},
   "outputs": [
    {
     "name": "stdout",
     "output_type": "stream",
     "text": [
      "Overwriting run_quicksorting.py\n"
     ]
    }
   ],
   "source": [
    "%%writefile run_quicksorting.py\n",
    "\n",
    "from memory_profiler import profile\n",
    "\n",
    "my_arr = [5, 9, 3, 6, 0, 1, 7, 2, 8, 4]\n",
    "\n",
    "\n",
    "def quick_sorting(arr):\n",
    "    if len(arr) < 2:\n",
    "        return arr\n",
    "    else:\n",
    "        base = arr[0]\n",
    "        less = [i for i in arr[1:] if i <= base]\n",
    "        more = [i for i in arr[1:] if i > base]\n",
    "        return quick_sorting(less) + [base] + quick_sorting(more)\n",
    "\n",
    "\n",
    "@profile\n",
    "def run_quick_sorting():\n",
    "    for i in range(-350, 0):\n",
    "        result = quick_sorting(arr=my_arr)\n",
    "    return result\n",
    "\n",
    "\n",
    "if __name__ == '__main__':\n",
    "    run_quick_sorting()"
   ]
  },
  {
   "cell_type": "code",
   "execution_count": 68,
   "id": "38147900",
   "metadata": {},
   "outputs": [
    {
     "name": "stdout",
     "output_type": "stream",
     "text": [
      "Filename: C:\\Users\\Мария\\PycharmProjects\\aleksandr_smolin_python_hw\\hw3_profiling\\run_quicksorting.py\n",
      "\n",
      "Line #    Mem usage    Increment  Occurrences   Line Contents\n",
      "=============================================================\n",
      "    17     41.4 MiB     41.4 MiB           1   @profile\n",
      "    18                                         def run_quick_sorting():\n",
      "    19     41.4 MiB      0.0 MiB         351       for i in range(-350, 0):\n",
      "    20     41.4 MiB      0.0 MiB         350           result = quick_sorting(arr=my_arr)\n",
      "    21     41.4 MiB      0.0 MiB           1       return result\n",
      "\n",
      "\n"
     ]
    }
   ],
   "source": [
    "!python run_quicksorting.py"
   ]
  },
  {
   "cell_type": "code",
   "execution_count": 63,
   "id": "4b9240a0",
   "metadata": {},
   "outputs": [
    {
     "name": "stdout",
     "output_type": "stream",
     "text": [
      "Overwriting run_bubblesorting.py\n"
     ]
    }
   ],
   "source": [
    "%%writefile run_bubblesorting.py\n",
    "\n",
    "from memory_profiler import profile\n",
    "\n",
    "my_arr = [5, 9, 3, 6, 0, 1, 7, 2, 8, 4]\n",
    "\n",
    "\n",
    "def bubble_sorting(arr):\n",
    "    n = len(arr)\n",
    "    for i in range(n-1):\n",
    "        for j in range(0, n-i-1):\n",
    "            if arr[j] > arr[j+1]:\n",
    "                arr[j], arr[j+1] = arr[j+1], arr[j]\n",
    "    return arr\n",
    "\n",
    "    \n",
    "@profile\n",
    "def run_bubble_sorting():\n",
    "    for i in range(-350, 0):\n",
    "        result = bubble_sorting(arr=my_arr)\n",
    "    return result\n",
    "\n",
    "\n",
    "if __name__ == '__main__':\n",
    "    run_bubble_sorting()"
   ]
  },
  {
   "cell_type": "code",
   "execution_count": 64,
   "id": "d495cee8",
   "metadata": {},
   "outputs": [
    {
     "name": "stdout",
     "output_type": "stream",
     "text": [
      "Filename: C:\\Users\\Мария\\PycharmProjects\\aleksandr_smolin_python_hw\\hw3_profiling\\run_bubblesorting.py\n",
      "\n",
      "Line #    Mem usage    Increment  Occurrences   Line Contents\n",
      "=============================================================\n",
      "    16     41.5 MiB     41.5 MiB           1   @profile\n",
      "    17                                         def run_bubble_sorting():\n",
      "    18     41.5 MiB      0.0 MiB         351       for i in range(-350, 0):\n",
      "    19     41.5 MiB      0.0 MiB         350           result = bubble_sorting(arr=my_arr)\n",
      "    20     41.5 MiB      0.0 MiB           1       return result\n",
      "\n",
      "\n"
     ]
    }
   ],
   "source": [
    "!python run_bubblesorting.py"
   ]
  },
  {
   "cell_type": "code",
   "execution_count": 65,
   "id": "3fba29f3",
   "metadata": {},
   "outputs": [
    {
     "name": "stdout",
     "output_type": "stream",
     "text": [
      "Overwriting run_builtinsorting.py\n"
     ]
    }
   ],
   "source": [
    "%%writefile run_builtinsorting.py\n",
    "\n",
    "from memory_profiler import profile\n",
    "\n",
    "my_arr = [5, 9, 3, 6, 0, 1, 7, 2, 8, 4]\n",
    "\n",
    "array = []\n",
    "\n",
    "\n",
    "def builtin_sorting(arr):\n",
    "    arr.sort()\n",
    "    return arr\n",
    "\n",
    "\n",
    "@profile\n",
    "def run_builtin_sorting():\n",
    "    for i in range(-350, 0):\n",
    "        result = builtin_sorting(array)\n",
    "    return result\n",
    "\n",
    "\n",
    "if __name__ == '__main__':\n",
    "    run_builtin_sorting()"
   ]
  },
  {
   "cell_type": "code",
   "execution_count": 66,
   "id": "89f69a85",
   "metadata": {},
   "outputs": [
    {
     "name": "stdout",
     "output_type": "stream",
     "text": [
      "Filename: C:\\Users\\Мария\\PycharmProjects\\aleksandr_smolin_python_hw\\hw3_profiling\\run_builtinsorting.py\n",
      "\n",
      "Line #    Mem usage    Increment  Occurrences   Line Contents\n",
      "=============================================================\n",
      "    14     41.5 MiB     41.5 MiB           1   @profile\n",
      "    15                                         def run_builtin_sorting():\n",
      "    16     41.5 MiB      0.0 MiB         351       for i in range(-350, 0):\n",
      "    17     41.5 MiB      0.0 MiB         350           result = builtin_sorting(array)\n",
      "    18     41.5 MiB      0.0 MiB           1       return result\n",
      "\n",
      "\n"
     ]
    }
   ],
   "source": [
    "!python run_builtinsorting.py"
   ]
  },
  {
   "cell_type": "markdown",
   "id": "3b973855",
   "metadata": {},
   "source": [
    "#### У всех видов сортировки колебания оперативной памяти незначительны."
   ]
  },
  {
   "cell_type": "code",
   "execution_count": null,
   "id": "1b6db4e6",
   "metadata": {},
   "outputs": [],
   "source": []
  }
 ],
 "metadata": {
  "kernelspec": {
   "display_name": "Python 3 (ipykernel)",
   "language": "python",
   "name": "python3"
  },
  "language_info": {
   "codemirror_mode": {
    "name": "ipython",
    "version": 3
   },
   "file_extension": ".py",
   "mimetype": "text/x-python",
   "name": "python",
   "nbconvert_exporter": "python",
   "pygments_lexer": "ipython3",
   "version": "3.9.1"
  }
 },
 "nbformat": 4,
 "nbformat_minor": 5
}
